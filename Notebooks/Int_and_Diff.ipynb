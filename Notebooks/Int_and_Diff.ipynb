{
 "cells": [
  {
   "attachments": {},
   "cell_type": "markdown",
   "metadata": {},
   "source": [
    "# Numerisches Integrieren und Differenzieren\n",
    "\n",
    "In diesem Kapitel wollen wir uns dem numerischen Integrieren und Differenzieren widmen. Hierbei handelt es\n",
    "sich um Techniken zur näherungsweisen Berechnung von bestimmten Integralen und Ableitungen. Vorallem\n",
    "findet dies dann Anwendung, wenn man das Problem analytisch nur schwer lösen kann oder es zu ineffizient\n",
    "ist, um das Problem analytisch zu lösen.\n",
    "\n",
    "Zunächst werden wir uns um das Integrieren kümmern und danach um das Differenzieren."
   ]
  },
  {
   "attachments": {},
   "cell_type": "markdown",
   "metadata": {},
   "source": [
    "## Numerisches Integrieren\n",
    "\n",
    "Um eine Intuition zu bekommen, schauen wir uns den 1-D Fall an einem konkreten Beispiel an. Sei also \n",
    "unsere Funktion $f: \\mathbb{R} \\rightarrow \\mathbb{R}$:\n",
    "\n",
    "$$ f(x) := x^2$$\n",
    "\n",
    "Visualisieren wir uns die Funktion."
   ]
  },
  {
   "cell_type": "code",
   "execution_count": 1,
   "metadata": {
    "tags": [
     "hide_input"
    ]
   },
   "outputs": [
    {
     "data": {
      "image/png": "[encoded data removed]",
      "text/plain": [
       "<Figure size 640x480 with 1 Axes>"
      ]
     },
     "metadata": {},
     "output_type": "display_data"
    }
   ],
   "source": [
    "# importieren der benötigten Bibliotheken\n",
    "import matplotlib.pyplot as plt\n",
    "import numpy as np\n",
    "\n",
    "# Grenzen der Integration\n",
    "a = 0\n",
    "b = 10\n",
    "\n",
    "# anlegen der x-Werte in unterschiedlicher \n",
    "# Auflösung\n",
    "ab = np.linspace(a, b, 1000)\n",
    "vlines = np.linspace(a,b,20)\n",
    "\n",
    "# wir berechnen die Funktion f(x) = x^2\n",
    "fv = [x**2 for x in vlines]\n",
    "fx = [x**2 for x in ab]\n",
    "\n",
    "# plotten der Funktion\n",
    "plt.plot(ab, fx, color='black')\n",
    "plt.fill_between(ab, fx, color='grey')\n",
    "plt.vlines(vlines, 0, fv, color=\"black\")\n",
    "plt.plot(vlines, fv, color=\"red\")\n",
    "plt.show()"
   ]
  },
  {
   "attachments": {},
   "cell_type": "markdown",
   "metadata": {},
   "source": [
    "Wie immer ist das Ziel beim Integrieren einer Funktion die Fläche unter dem Graph (möglichst genau) zu\n",
    "berechnen. Und dies ist natürlich auch unser Ziel beim numerischen Integrieren."
   ]
  },
  {
   "attachments": {},
   "cell_type": "markdown",
   "metadata": {},
   "source": [
    "Wie man hier gut erkennen kann, ist es möglich eine Funktion mit linearen Abschnitten zu approximieren\n",
    "(die roten Abschnitte sind die linearen Approximationen). Man bekommt damit also eine (mehr oder weniger) \n",
    "gute Representierung durch Trapeze. Somit kann man dann die Fläche unter der Funktion approximieren \n",
    "mit der Formel:\n",
    "\n",
    "$$\n",
    "\\int\\limits_a^b f(x) dx \\approx \\sum_a^b \\frac{f(x) + f(x+\\Delta x)}{2} \\cdot \\Delta x\n",
    "$$"
   ]
  },
  {
   "attachments": {},
   "cell_type": "markdown",
   "metadata": {},
   "source": [
    "Damit haben wir eine Berechnungsformel zur approximativen Berechnung des Integrals einer Funktion. \n",
    "Und diese Formel können wir auch direkt schon in Python übersetzen! Dies sieht wie folgt aus:"
   ]
  },
  {
   "cell_type": "code",
   "execution_count": 2,
   "metadata": {},
   "outputs": [
    {
     "name": "stdout",
     "output_type": "stream",
     "text": [
      "333.3335000000001\n"
     ]
    },
    {
     "data": {
      "text/plain": [
       "333.3333333333333"
      ]
     },
     "execution_count": 2,
     "metadata": {},
     "output_type": "execute_result"
    }
   ],
   "source": [
    "# die Grenzen\n",
    "a = 0\n",
    "b = 10\n",
    "\n",
    "# f(x) := x^2\n",
    "def f(x):\n",
    "    return x**2\n",
    "\n",
    "# die Schrittweite der Funktion, also das Delta x\n",
    "dx = (b - a)/1000\n",
    "\n",
    "# die x Werte\n",
    "x_vals = np.arange(a, b, dx)\n",
    "\n",
    "# das berechnete Integral\n",
    "Fab = 0\n",
    "\n",
    "# die Hauptschleife\n",
    "for x in x_vals:\n",
    "    # linke Seite des Trapezes\n",
    "    fx = f(x)\n",
    "    # rechte Seite des Trapezes\n",
    "    fdx = f(x+dx)\n",
    "    # die Fläche des Trapezes wird zur Gesamtfläche addiert\n",
    "    Fab += (fx + fdx) / 2 * dx\n",
    "\n",
    "print(Fab)\n",
    "\n",
    "# analytische Lösung\n",
    "Fab = 1/3 * 10**3 - 1/3 * 0**3\n",
    "Fab"
   ]
  },
  {
   "attachments": {},
   "cell_type": "markdown",
   "metadata": {},
   "source": [
    "Wir sehen also, dass wir mit dieser (ziemlich einfachen) Berechnungsmethode sehr nahe an die \n",
    "tatsächliche Lösung kommen (Größenordnung $10^{-4}$)! Natürlich hängt die Qualität des Ergebnisses signifikant von der Wahl\n",
    "des $\\Delta x$ ab. Wählen wir dieses zu groß, approximieren wir die Funktion über einen relative \n",
    "großen Bereich und damit reduziert sich auch die Genauigkeit ziemlich drastig. Als Daumenregel kann\n",
    "man hier sagen, dass man $\\Delta x$ lieber ein wenig kleiner wählt als zu groß. Bei den heutigen \n",
    "Prozessoren merkt in aller Regel auch keinen Unterschied, ob man die Funktion in 100 Bereiche \n",
    "oder in 1000 diskretisiert. Leider kann man aber die Genauigkeit nicht unendlich verbessern, da man in einem Computer\n",
    "nur endlich kleine Werte darstellen kann. Aber Schrittweiten von 0.01 sind auf jeden Fall nicht zu klein und in aller\n",
    "Regel auch nicht zu groß."
   ]
  },
  {
   "attachments": {},
   "cell_type": "markdown",
   "metadata": {},
   "source": [
    "``````{admonition} Intuition numerische Integration\n",
    ":class: tip, dropdown\n",
    "Der Algorithmus zur Berechnung des numerischen Integrals ist im Endeffekt eine direkte Anwendung des \n",
    "Riemann Integrals, welches auch schon aus der Schule bekannt sein sollte. Denn prinzipiell ist das\n",
    "Riemann Integral nichts anderes als eine unedliche Summe von Rechtecken, welche infinitisimal breit\n",
    "sind. Da wir aber in einem Computer nur endliche Genauigkeit haben, müssen wir die Rechtecke (oder\n",
    "hier Trapeze) breiter machen und bekommen damit nur eine (mehr oder weniger genaue) Approximation.\n",
    "\n",
    "Dies ist dann auch der Grund, weshalb wir ein genaueres Ergebnis bekommen, wenn wir den Bereich in\n",
    "viele kleine Bereiche unterteilen.\n",
    "``````"
   ]
  },
  {
   "attachments": {},
   "cell_type": "markdown",
   "metadata": {},
   "source": [
    "# Numerisches Differenzieren\n",
    "\n",
    "Schauen wir uns eine Definition der Ableitung an, die ein wenig anders aussieht als die, die aus der \n",
    "Schule bereits bekannt sein sollte:\n",
    "\n",
    "$$\n",
    "f'(x) := \\frac{f(x+h) - f(x-h)}{2h}; \\;h \\rightarrow 0\n",
    "$$\n",
    "\n",
    "Diese Formel kann man jetzt auch schon direkt wieder nutzen, um die Ableitung numerisch in einem Punkt zu berechenen.\n",
    "In Python Code sieht das dann wie folgt aus:"
   ]
  },
  {
   "cell_type": "code",
   "execution_count": 3,
   "metadata": {},
   "outputs": [
    {
     "name": "stdout",
     "output_type": "stream",
     "text": [
      "9.999999999621423\n"
     ]
    },
    {
     "data": {
      "text/plain": [
       "10"
      ]
     },
     "execution_count": 3,
     "metadata": {},
     "output_type": "execute_result"
    }
   ],
   "source": [
    "# unser Punkt\n",
    "x = 5\n",
    "\n",
    "# unsere Funktion\n",
    "def f(x):\n",
    "    return x**2\n",
    "\n",
    "# unser h\n",
    "h = 1e-5\n",
    "\n",
    "# die numerische Ableitung\n",
    "df = (f(x+h) - f(x-h)) / (2*h)\n",
    "\n",
    "print(df)\n",
    "\n",
    "# die analytische Lösung\n",
    "df = 2*x\n",
    "df"
   ]
  },
  {
   "attachments": {},
   "cell_type": "markdown",
   "metadata": {},
   "source": [
    "``````{admonition} $h$ vs $2h$\n",
    ":class: tip\n",
    "Man benutzt bei der numerischen Differentation $2h$ und die damit resultierenden Verschiebungen in \n",
    "x-Richtung, weil man dadurch einen quadratischen Fehler in $h$ bekommt. Benutzt man aber die herkömmliche Definition,\n",
    "so erhält man einen Fehler in $O(h)$, was für ein $h<1$ in einem größeren Fehler resultiert, als die von uns \n",
    "benutzte Methode. Interessierte können [hier](https://de.wikipedia.org/wiki/Numerische_Differentiation) und [hier](http://www.tm-mathe.de/Themen/html/funnumdiff.html) mehr über das Thema erfahren. Selbstverständlich ist dies aber nicht für die\n",
    "Klausur relevant.\n",
    "``````"
   ]
  },
  {
   "cell_type": "code",
   "execution_count": null,
   "metadata": {},
   "outputs": [],
   "source": []
  }
 ],
 "metadata": {
  "kernelspec": {
   "display_name": "Python 3",
   "language": "python",
   "name": "python3"
  },
  "language_info": {
   "codemirror_mode": {
    "name": "ipython",
    "version": 3
   },
   "file_extension": ".py",
   "mimetype": "text/x-python",
   "name": "python",
   "nbconvert_exporter": "python",
   "pygments_lexer": "ipython3",
   "version": "3.10.6"
  },
  "orig_nbformat": 4
 },
 "nbformat": 4,
 "nbformat_minor": 2
}
