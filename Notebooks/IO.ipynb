{
 "cells": [
  {
   "attachments": {},
   "cell_type": "markdown",
   "metadata": {},
   "source": [
    "# Lesen und Schreiben von Dateien\n",
    "\n",
    "Ein wichtiger Bestandteil bei der wissenschaftlichen Datenverarbeitung ist ohne Zweifel das Lesen und Schreiben von Dateien.\n",
    "Hierbei ist es zunächst einmal auch egal, um welche Daten es sich genau handelt (z.B. Bilddaten, quantitative Daten, \n",
    "qualitative Daten, usw.). In diesem Kurs werden wir uns **NICHT** mit Bilddaten beschäftigen, sondern werden uns auf \n",
    "quantitative (also messbare Daten) und qualitative Daten (also beschreibende Daten) beschränken.\n",
    "\n",
    "Aber grundsätzlich müssen **alle** Daten von unserer Festplatte, SSD oder welches konkrete persistente Speichermedium \n",
    "auch immer vorliegen mag (engl. storage), zunächst in den sog. Hauptspeicher (engl. memory) geladen werden. Von dort aus\n",
    "kann man dann auf den Daten seine Berechnungen ausführen. Doch um dies alles anwenden zu können, müssen wir uns zunächst\n",
    "darum kümmern, wie Dateien und Ordner überhaupt auf dem Computer organisiert sind."
   ]
  },
  {
   "attachments": {},
   "cell_type": "markdown",
   "metadata": {},
   "source": [
    "## Pfade\n",
    "\n",
    "Jedes Dateisystem (sei es Windows, MacOS, Linux, ...) besteht aus Dateien und Ordnern (was für die Meisten nichts neues\n",
    "sein dürfte). Hierbei stellt man fest, dass Ordner Dateien oder wiederum Ordner enthalten können. Graphisch sieht dies\n",
    "wie folgt aus:\n",
    "\n",
    "![Dateien und Ornder in einem Datei System](../Bilder/Datei_System.png)\n",
    "\n",
    "Insgesamt kann man zwei Arten von Pfaden unterscheiden: **relative** und **absolute** Pfade."
   ]
  },
  {
   "attachments": {},
   "cell_type": "markdown",
   "metadata": {},
   "source": [
    "### Absolute Pfade\n",
    "\n",
    "Bei dieser Art von Pfaden muss man den **kompletten Pfad**, ausgehend von einem sog. root-directory (quasi der \n",
    "Bezugspunkt), angeben. Dieses root-directory hat auch einen besonderen Namen: `~` (für unsere Zwecke reicht `~` aus, auch\n",
    "wenn dies nicht das eigentliche root-directory ist). Dies ist das Home-directory (also auf Unix `$HOME` und auf Windows \n",
    "`C:\\Users\\<your user name>`). Ausgehend von hier werden dann die Pfade angegeben. Da wir uns aber mehr für die zweite Art \n",
    "von Pfaden interessieren, werden wir an dieser Stelle nicht genauer auf absolute Pfade eingehen."
   ]
  },
  {
   "attachments": {},
   "cell_type": "markdown",
   "metadata": {},
   "source": [
    "``````{admonition} Home-directory\n",
    ":class: tip, dropdown\n",
    "Tiefer als `~` werden wir in diesem Kurs nicht schauen. Dies hat im wesentlichen zwei Gründe:\n",
    "\n",
    "- Da es in diesem Kurs sehr wahrscheinlich sowohl Windows als auch Unix Nutzer gibt, müsste man schon sehr ins Detail \n",
    "gehen, da die beiden Betriebssystem Arten doch recht weit auseinander gehen.\n",
    "- Zum Anderen haben wir für diesen Kurs nicht den Bedarf, tiefer in die Materie einzusteigen, da man für ziemlich simples\n",
    "Lesen und Schreiben von Dateien.\n",
    "``````\n",
    "\n",
    "````{admonition} Achtung!\n",
    ":class: warning\n",
    "Jeder sei an dieser Stelle gewarnt an Dateien, die Tiefer als `~` liegen **irgend etwas zu verändern**. Dies kann zu\n",
    "irreparablen Schäden an eurem Computer führen. Im schlimsten Fall kann der Computer im Anschluss nicht mehr Boot-fähig sein.\n",
    "Deshalb sollte **jeder**, der nicht exakt weis, was er oder sie tut, alle diese Dateien unberührt lassen!\n",
    "````"
   ]
  },
  {
   "cell_type": "code",
   "execution_count": null,
   "metadata": {},
   "outputs": [],
   "source": []
  }
 ],
 "metadata": {
  "kernelspec": {
   "display_name": "Python 3",
   "language": "python",
   "name": "python3"
  },
  "language_info": {
   "name": "python",
   "version": "3.10.6"
  },
  "orig_nbformat": 4
 },
 "nbformat": 4,
 "nbformat_minor": 2
}
