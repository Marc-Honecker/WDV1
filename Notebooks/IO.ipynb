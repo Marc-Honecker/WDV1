{
 "cells": [
  {
   "attachments": {},
   "cell_type": "markdown",
   "metadata": {},
   "source": [
    "# Lesen und Schreiben von Dateien\n",
    "\n",
    "Ein wichtiger Bestandteil bei der wissenschaftlichen Datenverarbeitung ist ohne Zweifel das Lesen und Schreiben von Dateien.\n",
    "In diesem Kurs werden wir uns auf quantitative (also messbare Daten) und qualitative Daten (also beschreibende Daten) beschränken.\n",
    "\n",
    "Grundsätzlich müssen **alle** Daten von unserer Festplatte in den sog. Hauptspeicher (engl. memory) geladen werden. Von \n",
    "dort aus kann man dann auf den Daten seine Berechnungen ausführen. Jedoch stellt sich die Frage, wie man von einem \n",
    "Programm aus überhaupt auf Dateien zugreifen kann (also insbesondere *ohne* ein graphisches Dateiverwaltungsprogramm).\n",
    "An dieser Stelle kommen dann sogenannte **Pfade** ins Spiel und um diese werden wir uns im Folgenden kurz kümmern."
   ]
  },
  {
   "attachments": {},
   "cell_type": "markdown",
   "metadata": {},
   "source": [
    "## Pfade\n",
    "\n",
    "Jedes Dateisystem (sei es Windows, MacOS, Linux, ...) besteht aus Dateien und Ordnern (was für die Meisten nichts neues\n",
    "sein dürfte). Hierbei stellt man fest, dass Ordner und Dateien in einer Hierarchie angeordnet sind, welche man (zumindest\n",
    "graphisch) \"von Oben nach Unten\" durchlaufen kann. Eine hypothetische Ordnerstruktur könnte wie folgt aussehen:\n",
    "\n",
    "```{figure} ../Bilder/Datei_System.png\n",
    ":name: Datei-System\n",
    "\n",
    "Ein Beispiel einer kleinen Ordner Hierarchie\n",
    "```\n",
    "\n",
    "Hierbei (und auch in unseren Programmen) sind zwei Begriffe von besonderer Bedeutung: **absolute** und **relative** Pfade."
   ]
  },
  {
   "attachments": {},
   "cell_type": "markdown",
   "metadata": {},
   "source": [
    "### Absolute Pfade\n",
    "\n",
    "Bei diesen Pfaden gibt man den kompletten Pfad an. Schauen wir uns ein Beispiel an:\n",
    "\n",
    "Angegnommen, unser gesamtes Dateisystem besteht aus der Hierarchie von [oben](Datei-System). Nehmen wir weiter an, dass\n",
    "wir uns im Moment in `Ordner B` befinden und wir möchten den Pfad von `Ordner D` angeben. Der absolute Pfad lautet dann\n",
    "wie folgt:\n",
    "\n",
    "`Ordner A/Ordner B/Ordner D`.\n",
    "\n",
    "Die '/' Zeichen sind lediglich Trennzeichen zwischen den Ordner und in diesem Kurs wird dem auch nicht weiter Beachtung\n",
    "geschenkt (auch wenn dies im realen Leben nicht immer der Fall ist). Wie man an diesem Beispiel sieht, muss man wirklich\n",
    "immer den **gesamten** Pfad angeben, egal wo man sich befindet. Eine Lösung für dieses sehr normale Problem, bieten \n",
    "**relative Pfade**."
   ]
  },
  {
   "attachments": {},
   "cell_type": "markdown",
   "metadata": {},
   "source": [
    "### Relative Pfade\n",
    "\n",
    "Nehmen wir wieder an, dass wir uns in `Ordner B` befinden und wir den Pfad von `Ordner D` angeben wollen. Sehen wir\n",
    "uns den folgenden (wohl definierten) Pfad an:\n",
    "\n",
    "`./Ordner D`\n",
    "\n",
    "Zunächst fällt auf, dass dieser Pfad wesentlich kürzer ist als der vorherige. Dies liegt an dem neuen Element in dem Pfad,\n",
    "nämlich `.`. Dieser einfache Punkt steht nämlich tatsächlich einen Pfad!\n",
    "\n",
    "Betrachen wir jetzt einmal den umgekehrten Fall: Wir befinden uns in `Ordner D` und möchten zurück in `Ordner B`. Dies ist\n",
    "mit einem relativen Pfad sogar noch einfacher zu realisieren als das vorherige Beispiel! Denn `../` reicht dafür völlig aus.\n",
    "\n",
    "``````{admonition} Die Pfade . und ..\n",
    ":class: tip\n",
    "Hier schauen wir uns diese beiden besonderen \"Pfade\" etwas genauer an, um besser zu verstehen, wie man sie einsetzen kann\n",
    "und wie sie (viel) Arbeit abnehmen können.\n",
    "`````{tab-set}\n",
    "````{tab-item} Der Pfad .\n",
    "Dieser \"Pfad\" ist kein Pfad im klassischen Sinn. Es viel mehr ein Programm (mit einem etwas seltsamen Namen), welches\n",
    "immer den **momentanen absoluten Pfad** zurück gibt. Man sieht also, dass `.` in `./Ordner D` also einfach nur den \n",
    "restlichen Pfad einblendet.\n",
    "````\n",
    "````{tab-item} Der Pfad ..\n",
    "Dieser \"Pfad\" verhält sich im Wesentlichen ähnlich wie der Vorherige. Nur dieser gibt den Pfad des Eltern-Ordners (engl.\n",
    "parent directory) zurück (was man von dem Beispiel auch schon vermuten konnte).\n",
    "````\n",
    "`````\n",
    "``````"
   ]
  },
  {
   "attachments": {},
   "cell_type": "markdown",
   "metadata": {},
   "source": [
    "## Einlesen der ersten Datei\n",
    "\n",
    "Das Einlesen von Dateien ist etwas derart alltägliches, dass viele sogenannte *Bibliotheken* Funktionalität zum Einlesen \n",
    "von Dateien bereitstellen. Bibliotheken sind im Allgemeinen Sammlungen von Funktionen, welche man in Programmen nutzen\n",
    "kann. Da Python aber eine riesige Anzahl von Biliotheken hat, sind diese Funktionen nicht direkt verfügbar (im Gegensatz\n",
    "zu `print()` aus dem vorherigen Kapitel). Um eine solche Bibliothek dem Python-Code bekannt zu machen, gibt es den Befehl\n",
    "`import <Bibliotheken-Name>`. Zunächst werden wir uns hier mit der Bibliothek [numpy](https://numpy.org/) beschäftigen."
   ]
  },
  {
   "cell_type": "code",
   "execution_count": 1,
   "metadata": {},
   "outputs": [
    {
     "data": {
      "text/plain": [
       "array([[ 1.,  2.,  3.,  4.],\n",
       "       [ 5.,  6.,  7.,  8.],\n",
       "       [ 9., 10., 11., 12.]])"
      ]
     },
     "execution_count": 1,
     "metadata": {},
     "output_type": "execute_result"
    }
   ],
   "source": [
    "# Hier importieren wir numpy.\n",
    "# Mit 'as' kann man der Bibliothek einen neuen (optionalen) Namen geben.\n",
    "# Im Fall von numpy ist 'np' üblich.\n",
    "import numpy as np\n",
    "\n",
    "# Die Funktion np.loadtxt übernimmt hier das Einlesen der Datei.\n",
    "# -fnmae: dies ist der Pfad zu der Datei, die wir öffnen wollen\n",
    "# -delimiter: dieser Paramter gibt das Trennzeichen zwischen den \n",
    "#             einzelnen Zahlen an\n",
    "mat = np.loadtxt(fname=\"../Data/test_data.csv\", delimiter=',')\n",
    "mat"
   ]
  },
  {
   "attachments": {},
   "cell_type": "markdown",
   "metadata": {},
   "source": [
    "``````{admonition} csv-Dateien\n",
    ":class: info\n",
    "\n",
    "`.csv` kommt aus dem Englischen und steht für **C**omma **S**eparated **V**alue. Somit werden die Daten in solchen Dateien\n",
    "einfach durch Kommata getrennt abgespeichert. Eine Erweiterung dessen sind sogenannte `*.dsv*`-Dateien. Dies steht für\n",
    "**D**elimiter **S**perated **V*alue. D.h., dass die Daten in den Dateien auch durch andere Zeichen voneinander getrennt\n",
    "werden können, z.B. *, -, & oder auch beispielsweise &#127822;, &#128021;, oder &#128039;. Auch Whitespaces können dafür\n",
    "genutzt werden. Allerdings ist die Unterscheidung zwischen `.csv` und `.dsv` heute nicht mehr unbedingt üblich. Deshalb findet sich heute auch in `.csv` Dateien andere Trennzeichen als `,`. Beispielsweise nutzt Excel zum Abespeichern \n",
    "von `.csv` Dateien `;` als Trenner und nicht `,`.\n",
    "``````"
   ]
  },
  {
   "attachments": {},
   "cell_type": "markdown",
   "metadata": {},
   "source": [
    "Nachdem wir jetzt die Daten eingelesen haben, können wir sie auch nutzen. Z.B. können wir die Matrix mit einem Vektor \n",
    "multiplizieren."
   ]
  },
  {
   "cell_type": "code",
   "execution_count": 2,
   "metadata": {},
   "outputs": [
    {
     "name": "stdout",
     "output_type": "stream",
     "text": [
      "[10. 26. 42.]\n"
     ]
    }
   ],
   "source": [
    "# Definition eines Vektors\n",
    "a = np.array([1,1,1,1])\n",
    "\n",
    "# um das Skalarprodukt zu berechnen, müssen wir die np.dot Funktion benutzen\n",
    "# leider berechnet mat * a das elementweise Produkt und nicht wie man\n",
    "# erwarten könnte das Skalarprodukt\n",
    "mat_a = np.dot(mat, a)\n",
    "print(mat_a)"
   ]
  },
  {
   "attachments": {},
   "cell_type": "markdown",
   "metadata": {},
   "source": [
    "Jetzt können wir die Daten auch wieder schreiben. Angenommen wir möchten den gerade erzeugten Vektor in die Datei \n",
    "`test_vector.csv` schreiben. Dies sieht mit `numpy` wie folgt aus:"
   ]
  },
  {
   "cell_type": "code",
   "execution_count": 3,
   "metadata": {},
   "outputs": [],
   "source": [
    "np.savetxt(fname='../Data/test_vector.csv', X=mat_a, delimiter=',')"
   ]
  },
  {
   "attachments": {},
   "cell_type": "markdown",
   "metadata": {},
   "source": [
    "Damit ist der Vektor in die Datei geschrieben und wir können ihn zu einem späteren Zeitpunkt wieder laden und eventuell\n",
    "mit dem Vektor weiterrechenen."
   ]
  },
  {
   "attachments": {},
   "cell_type": "markdown",
   "metadata": {},
   "source": [
    "Möchte man aber oft und viele Dateien Lesen und Schreiben kann es sinnvoll sein, dass man \n",
    "[pandas](https://pandas.pydata.org/) hierfür benutzt, da die Stärken von `numpy` eher in der effizienten Berechnung liegen\n",
    "und die Stärken von `pandas` im Bereich Lesen, Schreiben und Aufbereiten von Daten liegen. Schauen wir uns an, wie wir\n",
    "eine Datei hiermit öffnen können."
   ]
  },
  {
   "cell_type": "code",
   "execution_count": 4,
   "metadata": {},
   "outputs": [
    {
     "data": {
      "text/html": [
       "<div>\n",
       "<style scoped>\n",
       "    .dataframe tbody tr th:only-of-type {\n",
       "        vertical-align: middle;\n",
       "    }\n",
       "\n",
       "    .dataframe tbody tr th {\n",
       "        vertical-align: top;\n",
       "    }\n",
       "\n",
       "    .dataframe thead th {\n",
       "        text-align: right;\n",
       "    }\n",
       "</style>\n",
       "<table border=\"1\" class=\"dataframe\">\n",
       "  <thead>\n",
       "    <tr style=\"text-align: right;\">\n",
       "      <th></th>\n",
       "      <th>A</th>\n",
       "      <th>B</th>\n",
       "      <th>C</th>\n",
       "      <th>D</th>\n",
       "    </tr>\n",
       "  </thead>\n",
       "  <tbody>\n",
       "    <tr>\n",
       "      <th>0</th>\n",
       "      <td>1</td>\n",
       "      <td>2</td>\n",
       "      <td>3</td>\n",
       "      <td>4</td>\n",
       "    </tr>\n",
       "    <tr>\n",
       "      <th>1</th>\n",
       "      <td>5</td>\n",
       "      <td>6</td>\n",
       "      <td>7</td>\n",
       "      <td>8</td>\n",
       "    </tr>\n",
       "    <tr>\n",
       "      <th>2</th>\n",
       "      <td>9</td>\n",
       "      <td>10</td>\n",
       "      <td>11</td>\n",
       "      <td>12</td>\n",
       "    </tr>\n",
       "  </tbody>\n",
       "</table>\n",
       "</div>"
      ],
      "text/plain": [
       "   A   B   C   D\n",
       "0  1   2   3   4\n",
       "1  5   6   7   8\n",
       "2  9  10  11  12"
      ]
     },
     "execution_count": 4,
     "metadata": {},
     "output_type": "execute_result"
    }
   ],
   "source": [
    "import pandas as pd\n",
    "\n",
    "data = pd.read_csv(filepath_or_buffer=\"../Data/test_data_with_header.csv\")\n",
    "data"
   ]
  },
  {
   "attachments": {},
   "cell_type": "markdown",
   "metadata": {},
   "source": [
    "Wir sehen direkt, dass wir eine Tabelle anstelle einer Matrix zurück bekommen. Man mag sich jetzt fragen, warum so etwas\n",
    "praktisch sein kann. Diese Möglichkeit zahlt sich dann aus, wenn wir z.B. Daten haben, die nach bestimmten Kriterien \n",
    "geordnet sind. Beispielsweise könnte in der ersten Spalte die Zeit, in der zweiten der Weg, in der dritten die\n",
    "Geschwindigkeit und in der letzten Spalte die zugehörige Beschleunigung eingetragen sein. In aller Regel ist es dann \n",
    "einfacher sich auf die entsprechenden Namen zu beziehen, anstelle sich die genaue Spaltennummer zu merken. Des Weiteren \n",
    "kann man ein pandas `Dataframe` einfach in ein numpy array umwandeln"
   ]
  },
  {
   "cell_type": "code",
   "execution_count": 5,
   "metadata": {},
   "outputs": [
    {
     "data": {
      "text/plain": [
       "array([[ 1,  2,  3,  4],\n",
       "       [ 5,  6,  7,  8],\n",
       "       [ 9, 10, 11, 12]])"
      ]
     },
     "execution_count": 5,
     "metadata": {},
     "output_type": "execute_result"
    }
   ],
   "source": [
    "np_data = data.to_numpy()\n",
    "np_data"
   ]
  },
  {
   "attachments": {},
   "cell_type": "markdown",
   "metadata": {},
   "source": [
    "Damit kann man dann genauso wie zuvor mit den Daten in numpy arbeiten. Anschließend kann man das numpy array auch\n",
    "wieder in ein pandas Dataframe wieder zurück konvertieren."
   ]
  },
  {
   "cell_type": "code",
   "execution_count": 8,
   "metadata": {},
   "outputs": [
    {
     "name": "stdout",
     "output_type": "stream",
     "text": [
      "   0   1   2   3\n",
      "0  1   2   3   4\n",
      "1  5   6   7   8\n",
      "2  9  10  11  12\n"
     ]
    }
   ],
   "source": [
    "df = pd.DataFrame(np_data)\n",
    "print(df)\n",
    "df.to_csv(path_or_buf='../Data/test_dataframe.csv')"
   ]
  },
  {
   "attachments": {},
   "cell_type": "markdown",
   "metadata": {},
   "source": [
    "Dies erleichtert dann wiederum das Schreiben der entstandenen Datei. Ein weiterer großer Vorteil von pandas ist, dass\n",
    "man auch einfach die Daten analysieren kann. Ein Beispiel ist z.B., dass man ganz einfach den Erwartungswert und die \n",
    "Varianz damit **pro Spalte** berechnen kann. Aber dazu später mehr.\n",
    "\n",
    "Insgesamt kann man sagen, dass es Geschmackssache ist, welches Framework man bevorzugt. Und damit ist das Kapitel zum\n",
    "Lesen und Schreiben von Dateien auch schon zu Ende."
   ]
  },
  {
   "cell_type": "code",
   "execution_count": null,
   "metadata": {},
   "outputs": [],
   "source": []
  }
 ],
 "metadata": {
  "kernelspec": {
   "display_name": "Python 3",
   "language": "python",
   "name": "python3"
  },
  "language_info": {
   "codemirror_mode": {
    "name": "ipython",
    "version": 3
   },
   "file_extension": ".py",
   "mimetype": "text/x-python",
   "name": "python",
   "nbconvert_exporter": "python",
   "pygments_lexer": "ipython3",
   "version": "3.10.6"
  },
  "orig_nbformat": 4
 },
 "nbformat": 4,
 "nbformat_minor": 2
}
