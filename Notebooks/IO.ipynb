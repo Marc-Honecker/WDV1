{
 "cells": [
  {
   "attachments": {},
   "cell_type": "markdown",
   "metadata": {},
   "source": [
    "# Lesen und Schreiben von Dateien\n",
    "\n",
    "Ein wichtiger Bestandteil bei der wissenschaftlichen Datenverarbeitung ist ohne Zweifel das Lesen und Schreiben von Dateien.\n",
    "In diesem Kurs werden wir uns auf quantitative (also messbare Daten) und qualitative Daten (also beschreibende Daten) beschränken.\n",
    "\n",
    "Grundsätzlich müssen **alle** Daten von unserer Festplatte in den sog. Hauptspeicher (engl. memory) geladen werden. Von \n",
    "dort aus kann man dann auf den Daten seine Berechnungen ausführen. Jedoch stellt sich die Frage, wie man von einem \n",
    "Programm aus überhaupt auf Dateien zugreifen kann (also insbesondere *ohne* ein graphisches Dateiverwaltungsprogramm).\n",
    "An dieser Stelle kommen dann sogenannte **Pfade** ins Spiel und um diese werden wir uns im Folgenden kurz kümmern."
   ]
  },
  {
   "attachments": {},
   "cell_type": "markdown",
   "metadata": {},
   "source": [
    "## Pfade\n",
    "\n",
    "Jedes Dateisystem (sei es Windows, MacOS, Linux, ...) besteht aus Dateien und Ordnern (was für die Meisten nichts neues\n",
    "sein dürfte). Hierbei stellt man fest, dass Ordner und Dateien in einer Hierarchie angeordnet sind, welche man (zumindest\n",
    "graphisch) \"von Oben nach Unten\" durchlaufen kann. Eine hypothetische Ordnerstruktur könnte wie folgt aussehen:\n",
    "\n",
    "```{figure} ../Bilder/Datei_System.png\n",
    ":name: Datei-System\n",
    "\n",
    "Ein Beispiel einer kleinen Ordner Hierarchie\n",
    "```\n",
    "\n",
    "Hierbei (und auch in unseren Programmen) sind zwei Begriffe von besonderer Bedeutung: **absolute** und **relative** Pfade."
   ]
  },
  {
   "attachments": {},
   "cell_type": "markdown",
   "metadata": {},
   "source": [
    "### Absolute Pfade\n",
    "\n",
    "Bei diesen Pfaden gibt man den kompletten Pfad an. Schauen wir uns ein Beispiel an:\n",
    "\n",
    "Angegnommen, unser gesamtes Dateisystem besteht aus der Hierarchie von [oben](Datei-System). Nehmen wir weiter an, dass\n",
    "wir uns im Moment in `Ordner B` befinden und wir möchten den Pfad von `Ordner D` angeben. Der absolute Pfad lautet dann\n",
    "wie folgt:\n",
    "\n",
    "`Ordner A/Ordner B/Ordner D`.\n",
    "\n",
    "Die '/' Zeichen sind lediglich Trennzeichen zwischen den Ordner und in diesem Kurs wird dem auch nicht weiter Beachtung\n",
    "geschenkt (auch wenn dies im realen Leben nicht immer der Fall ist). Wie man an diesem Beispiel sieht, muss man wirklich\n",
    "immer den **gesamten** Pfad angeben, egal wo man sich befindet. Eine Lösung für dieses sehr normale Problem, bieten \n",
    "**relative Pfade**."
   ]
  },
  {
   "attachments": {},
   "cell_type": "markdown",
   "metadata": {},
   "source": [
    "### Relative Pfade\n",
    "\n",
    "Nehmen wir wieder an, dass wir uns in `Ordner B` befinden und wir den Pfad von `Ordner D` angeben wollen. Sehen wir\n",
    "uns den folgenden (wohl definierten) Pfad an:\n",
    "\n",
    "`./Ordner D`\n",
    "\n",
    "Zunächst fällt auf, dass dieser Pfad wesentlich kürzer ist als der vorherige. Dies liegt an dem neuen Element in dem Pfad,\n",
    "nämlich `.`. Dieser einfache Punkt steht nämlich tatsächlich einen Pfad!\n",
    "\n",
    "Betrachen wir jetzt einmal den umgekehrten Fall: Wir befinden uns in `Ordner D` und möchten zurück in `Ordner B`. Dies ist\n",
    "mit einem relativen Pfad sogar noch einfacher zu realisieren als das vorherige Beispiel! Denn `../` reicht dafür völlig aus.\n",
    "\n",
    "``````{admonition} Die Pfade . und ..\n",
    ":class: tip\n",
    "Hier schauen wir uns diese beiden besonderen \"Pfade\" etwas genauer an, um besser zu verstehen, wie man sie einsetzen kann\n",
    "und wie sie (viel) Arbeit abnehmen können.\n",
    "`````{tab-set}\n",
    "````{tab-item} Der Pfad .\n",
    "Dieser \"Pfad\" ist kein Pfad im klassischen Sinn. Es viel mehr ein Programm (mit einem etwas seltsamen Namen), welches\n",
    "immer den **momentanen absoluten Pfad** zurück gibt. Man sieht also, dass `.` in `./Ordner D` also einfach nur den \n",
    "restlichen Pfad einblendet.\n",
    "````\n",
    "````{tab-item} Der Pfad ..\n",
    "Dieser \"Pfad\" verhält sich im Wesentlichen ähnlich wie der Vorherige. Nur dieser gibt den Pfad des Eltern-Ordners (engl.\n",
    "parent directory) zurück (was man von dem Beispiel auch schon vermuten konnte).\n",
    "````\n",
    "`````\n",
    "``````"
   ]
  },
  {
   "attachments": {},
   "cell_type": "markdown",
   "metadata": {},
   "source": [
    "## Einlesen der ersten Datei\n",
    "\n",
    "Das Einlesen von Dateien ist etwas derart alltägliches, dass viele sogenannte *Bibliotheken* Funktionalität zum Einlesen \n",
    "von Dateien bereitstellen. Bibliotheken sind im Allgemeinen Sammlungen von Funktionen, welche man in Programmen nutzen\n",
    "kann. Da Python aber eine riesige Anzahl von Biliotheken hat, sind diese Funktionen nicht direkt verfügbar (im Gegensatz\n",
    "zu `print()` aus dem vorherigen Kapitel). Um eine solche Bibliothek dem Python-Code bekannt zu machen, gibt es den Befehl\n",
    "`import <Bibliotheken-Name>`. Zunächst werden wir uns hier mit der Bibliothek [numpy](https://numpy.org/) beschäftigen."
   ]
  },
  {
   "cell_type": "code",
   "execution_count": 3,
   "metadata": {},
   "outputs": [
    {
     "data": {
      "text/plain": [
       "array([[ 1.,  2.,  3.,  4.],\n",
       "       [ 5.,  6.,  7.,  8.],\n",
       "       [ 9., 10., 11., 12.]])"
      ]
     },
     "execution_count": 3,
     "metadata": {},
     "output_type": "execute_result"
    }
   ],
   "source": [
    "# Hier importieren wir numpy.\n",
    "# Mit 'as' kann man der Bibliothek einen neuen (optionalen) Namen geben.\n",
    "# Im Fall von numpy ist np üblich.\n",
    "import numpy as np\n",
    "\n",
    "# Die Funktion np.loadtxt übernimmt hier das Einlesen der Datei.\n",
    "data = np.loadtxt(fname=\"../Data/test_data.csv\", delimiter=',')\n",
    "data"
   ]
  },
  {
   "cell_type": "code",
   "execution_count": 5,
   "metadata": {},
   "outputs": [
    {
     "data": {
      "text/html": [
       "<div>\n",
       "<style scoped>\n",
       "    .dataframe tbody tr th:only-of-type {\n",
       "        vertical-align: middle;\n",
       "    }\n",
       "\n",
       "    .dataframe tbody tr th {\n",
       "        vertical-align: top;\n",
       "    }\n",
       "\n",
       "    .dataframe thead th {\n",
       "        text-align: right;\n",
       "    }\n",
       "</style>\n",
       "<table border=\"1\" class=\"dataframe\">\n",
       "  <thead>\n",
       "    <tr style=\"text-align: right;\">\n",
       "      <th></th>\n",
       "      <th>A</th>\n",
       "      <th>B</th>\n",
       "      <th>C</th>\n",
       "      <th>D</th>\n",
       "    </tr>\n",
       "  </thead>\n",
       "  <tbody>\n",
       "    <tr>\n",
       "      <th>0</th>\n",
       "      <td>1</td>\n",
       "      <td>2</td>\n",
       "      <td>3</td>\n",
       "      <td>4</td>\n",
       "    </tr>\n",
       "    <tr>\n",
       "      <th>1</th>\n",
       "      <td>5</td>\n",
       "      <td>6</td>\n",
       "      <td>7</td>\n",
       "      <td>8</td>\n",
       "    </tr>\n",
       "    <tr>\n",
       "      <th>2</th>\n",
       "      <td>9</td>\n",
       "      <td>10</td>\n",
       "      <td>11</td>\n",
       "      <td>12</td>\n",
       "    </tr>\n",
       "  </tbody>\n",
       "</table>\n",
       "</div>"
      ],
      "text/plain": [
       "   A   B   C   D\n",
       "0  1   2   3   4\n",
       "1  5   6   7   8\n",
       "2  9  10  11  12"
      ]
     },
     "execution_count": 5,
     "metadata": {},
     "output_type": "execute_result"
    }
   ],
   "source": [
    "import pandas as pd\n",
    "\n",
    "data = pd.read_csv(filepath_or_buffer=\"../Data/test_data_with_header.csv\")\n",
    "data"
   ]
  },
  {
   "cell_type": "code",
   "execution_count": null,
   "metadata": {},
   "outputs": [],
   "source": []
  }
 ],
 "metadata": {
  "kernelspec": {
   "display_name": "Python 3",
   "language": "python",
   "name": "python3"
  },
  "language_info": {
   "codemirror_mode": {
    "name": "ipython",
    "version": 3
   },
   "file_extension": ".py",
   "mimetype": "text/x-python",
   "name": "python",
   "nbconvert_exporter": "python",
   "pygments_lexer": "ipython3",
   "version": "3.10.6"
  },
  "orig_nbformat": 4
 },
 "nbformat": 4,
 "nbformat_minor": 2
}
