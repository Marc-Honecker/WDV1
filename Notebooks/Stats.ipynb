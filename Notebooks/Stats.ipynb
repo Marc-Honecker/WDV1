{
 "cells": [
  {
   "attachments": {},
   "cell_type": "markdown",
   "metadata": {},
   "source": [
    "# Mittelwert, Varianz und Histogramme\n",
    "\n",
    "In diesem Kapitel werden wir uns um das Berechnen von Mittelwert, Varianz und Streuung kümmern, sowie dem Plotten von\n",
    "Histogrammen."
   ]
  },
  {
   "attachments": {},
   "cell_type": "markdown",
   "metadata": {},
   "source": [
    "## Der Mittelwert\n",
    "\n",
    "Der Mittelwert, oder auch arithmetisches Mittel (engl. sample mean), dürfte bereits aus der Schule bekannt sein. \n",
    "Dennoch werden wir die Definition hier noch einmal wiederholen, damit die hier verwendete Notation jedem bekannt ist. \n",
    "Es gilt:\n",
    "\n",
    "$$\n",
    "\\bar{x} = \\frac{1}{N} \\sum_{i=1}^N x_i\n",
    "$$\n",
    "\n",
    "Wollen wir dies in Python implementieren, so gibt es verschiedene Möglichkeiten. \n",
    "Die erste und wahrscheinlich offensichtlichste ist:"
   ]
  },
  {
   "cell_type": "code",
   "execution_count": 10,
   "metadata": {},
   "outputs": [
    {
     "data": {
      "text/plain": [
       "5.0"
      ]
     },
     "execution_count": 10,
     "metadata": {},
     "output_type": "execute_result"
    }
   ],
   "source": [
    "def my_mean(x_values):\n",
    "    N = len(x_values)\n",
    "    summe = 0.\n",
    "    \n",
    "    for x in x_values:\n",
    "        summe += x\n",
    "    \n",
    "    return summe/N\n",
    "\n",
    "my_list = list(range(11))\n",
    "\n",
    "my_mean(my_list)"
   ]
  },
  {
   "attachments": {},
   "cell_type": "markdown",
   "metadata": {},
   "source": [
    "Dieses Programm ist leicht zu lesen und macht genau das, was es soll.\n",
    "Allerdings gleicht diese Herangehensweise dem Versuch, das Rad neuzuerfinden.\n",
    "Für so alltägliche Probleme wie die Berechnung der Summe von Elementen in einem Container hat Python selbst bereits gelöst.\n",
    "Außerdem würde man sich die Definitionen der lokalen Zwischenergebnisse `N` und `summe` gerne sparen.\n",
    "Wir nutzen diese Vereinfachungen also aus bekommen einen wesentlich aufgeräuteren Code:"
   ]
  },
  {
   "cell_type": "code",
   "execution_count": 11,
   "metadata": {},
   "outputs": [
    {
     "data": {
      "text/plain": [
       "5.0"
      ]
     },
     "execution_count": 11,
     "metadata": {},
     "output_type": "execute_result"
    }
   ],
   "source": [
    "def my_simpler_mean(ls):\n",
    "    return sum(ls)/len(ls)\n",
    "\n",
    "my_simpler_mean(my_list)"
   ]
  },
  {
   "attachments": {},
   "cell_type": "markdown",
   "metadata": {},
   "source": [
    "In der Praxis sollten Sie zum Arbeiten mit Zahlen stets die Infrostruktur von `numpy` gegenüber einfachen Python-Listen bevorzugen.\n",
    "`numpy`'s `arange` ist das direkte Äquivalent zur bereits bekannten `range`-Funktion, mit dem Unterschied, dass das Ergebnis vom Typ `numpy.ndarray` (n-dimensional array) ist."
   ]
  },
  {
   "cell_type": "code",
   "execution_count": 12,
   "metadata": {},
   "outputs": [
    {
     "name": "stdout",
     "output_type": "stream",
     "text": [
      "<class 'numpy.ndarray'>\n"
     ]
    },
    {
     "data": {
      "text/plain": [
       "5.0"
      ]
     },
     "execution_count": 12,
     "metadata": {},
     "output_type": "execute_result"
    }
   ],
   "source": [
    "import numpy as np\n",
    "\n",
    "my_array = np.arange(11)\n",
    "print(type(my_array))\n",
    "np.mean(my_array)"
   ]
  },
  {
   "attachments": {},
   "cell_type": "markdown",
   "metadata": {},
   "source": [
    "## Varianz und Streuung\n",
    "\n",
    "Die klassische Definition der **Varianz** lautet \n",
    "\n",
    "$$ \n",
    "s^2 = \\frac{1}{N} \\sum_{i=1}^N (x_i - \\bar{x})^2.\n",
    "$$\n",
    "\n",
    "Wenn Sie mit Summenzeichen umgehen können, sollten Sie in wenigen Schritten zeigen können, dass diese Definition äquivalent ist zu\n",
    "\n",
    "$$\n",
    "s^2 = \\bar{x^2} - \\bar{x}^2.\n",
    "$$\n",
    "\n",
    "Die **Standardabweichung** (engl. standard deviation) ist definiert als die Wurzel der Varianz, also $s$. \n",
    "Auch hier werden wir wieder die offensichtliche Implementierung angeben und dann die `numpy`-Lösung. \n",
    "Dies sieht dann wie folgt aus:"
   ]
  },
  {
   "cell_type": "code",
   "execution_count": 13,
   "metadata": {},
   "outputs": [],
   "source": [
    "def my_var(x_values):\n",
    "    x_bar = my_mean(x_values)\n",
    "\n",
    "    s_squared = 0.\n",
    "    for x_i in x_values:\n",
    "        s_squared += (x_i - x_bar)**2\n",
    "\n",
    "    return s_squared / len(x_values)"
   ]
  },
  {
   "attachments": {},
   "cell_type": "markdown",
   "metadata": {},
   "source": [
    "Diese Implementierung ist wieder sehr ähnlich zu der naiven Implementierung des Mittelwertes. \n",
    "Ähnlich wie oben können wir die Funktion vereinfachen, indem wir die vordefinierte `sum()`-Funktion nutzen.\n",
    "Hierzu brauchen wir eine Lösung um mit `sum()` über die Quadrate der Einträge zu summieren anstatt über die Einträge selbst:"
   ]
  },
  {
   "cell_type": "code",
   "execution_count": 14,
   "metadata": {},
   "outputs": [],
   "source": [
    "def my_simpler_var(x_values):\n",
    "    x_bar = my_simpler_mean(x_values)\n",
    "    s_squared = sum([(x_i - x_bar)**2 for x_i in x_values])\n",
    "    return s_squared / len(x_values)"
   ]
  },
  {
   "attachments": {},
   "cell_type": "markdown",
   "metadata": {},
   "source": [
    "In dieser Implementierung haben wir eine sogenannte `list comprehension` genutzt. \n",
    "Dieses Tool ermöglicht es, dass man aus einer bereits gegebenen Liste eine neue Liste erstellt und gleichzeitig Operationen auf den Elementen ausführt.\n",
    "Dies haben wir in obigem Beispiel ausgenutzt und haben als Elemente der neuen Liste die $(x_i - \\bar{x})^2$ abgespeichert.\n",
    "Anschließend haben wir dann diese Liste direkt in die Summen Funktion gesteckt und dieses Ergebnis (wie vorher) in `s_squared` gespeichert. \n",
    "Dadurch konnten wir wieder die Implementierung wesentlich kürzer gestalten. \n",
    "Interessierte können [hier](https://www.w3schools.com/python/python_lists_comprehension.asp) mehr über die `list comprehension` erfahren.\n",
    "\n",
    "Vielleicht fällt Ihnen im obigen Beispiel auf, dass wir in der Funktion für die Varianz noch einmal die Funktion für den Mittelwert aufrufen.\n",
    "Das können wir aber vermeiden indem wir die alternative Gleichung für die Varianz nutzen:"
   ]
  },
  {
   "cell_type": "code",
   "execution_count": 15,
   "metadata": {},
   "outputs": [
    {
     "name": "stdout",
     "output_type": "stream",
     "text": [
      "10.0\n",
      "10.0\n",
      "10.0\n"
     ]
    }
   ],
   "source": [
    "def my_other_var(x_values):\n",
    "    N = len(x_values)\n",
    "    sum_x = 0.\n",
    "    sum_x_squared = 0.\n",
    "    for x in x_values:\n",
    "        sum_x += x\n",
    "        sum_x_squared += x**2\n",
    "    \n",
    "    return (sum_x_squared/N - (sum_x/N)**2)\n",
    "\n",
    "# Vergleich der drei Funktionen\n",
    "print(my_var(my_list))\n",
    "print(my_simpler_var(my_list))\n",
    "print(my_other_var(my_list))\n"
   ]
  },
  {
   "attachments": {},
   "cell_type": "markdown",
   "metadata": {},
   "source": [
    "Die kürzeste Implementierung erfolgt aber natürlich wieder durch `numpy`. Hier erhalten wir:"
   ]
  },
  {
   "cell_type": "code",
   "execution_count": 16,
   "metadata": {},
   "outputs": [
    {
     "data": {
      "text/plain": [
       "10.0"
      ]
     },
     "execution_count": 16,
     "metadata": {},
     "output_type": "execute_result"
    }
   ],
   "source": [
    "np.var(my_list)"
   ]
  },
  {
   "attachments": {},
   "cell_type": "markdown",
   "metadata": {},
   "source": [
    "### Normierung der Varianz\n",
    "\n",
    "Die obige Definition für die Varianz ist zwar die mathematisch schönste, stellt aber nicht unbedingt das beste Maß für die Streuung von Werten dar.\n",
    "In der Praxis ist es üblich durch $N-1$ statt $N$ zu teilen, weil die Normalisierung mit $\\frac{1}{N}$ die Streuung 'unterschätzt'. \n",
    "Spürbar ist dieser Effekt nur für kleine $N$, weil $N \\approx {N-1}$, für $N \\rightarrow \\infty$. \n",
    "Dennoch ist es oft besser mit ${N-1}$ zu normieren, was man auch als **empirische Varianz** bezeichnet:\n",
    "\n",
    "$$\n",
    "s^2 = \\frac{1}{N-1} \\sum_{i=1}^N (x_i - \\bar{x})^2.\n",
    "$$\n",
    "\n",
    "Diese Wahl kann wie folgt motiviert werden:\n",
    "Wir wollen, dass die Varianz von experimentellen Messungen etwas über die Genauigkeit (bzw. Vertrauenswürdigkeit) der Messung aussagt: je kleiner die Varianz, desto besser.\n",
    "Im ersten Fall wiederholen wir eine Messung $N$ mal und bekommen immer ungefähr das gleiche Ergnis für $x$ mit geringer Streuung $s$. Das ist das beruhigend.\n",
    "Im zweiten Fall messen wir nur ein einziges Mal und versuchen nie wieder das Ergebnis zu reproduzieren.\n",
    "Hoffentlich ist es offensichtlich für Sie, dass das zweite Ergebnis viel weniger vertrauenerweckend ist als das erste.\n",
    "Mit der unkorrigierten Varianz (Norm $N$) hätte die zweite Messung eine Standardabweichung von 0.\n",
    "Die korrigierte Varianz (Norm $N-1$) bescheinigt jedoch auf eine unendlich große Standardabweichung, also eine maximale Unsicherheit des Ergebnisses."
   ]
  },
  {
   "attachments": {},
   "cell_type": "markdown",
   "metadata": {},
   "source": [
    "In `numpy` können wir die Korrektur der Varianz übrigens erzwingen mit dem optionalen Funktionsargument `ddof=1`.\n",
    "Bei den naiven Implementierungen sollten die nötigen Änderungen offensichtlich sein, abgesehen davon, dass die Gleichung $s^2 = \\bar{x^2} - \\bar{x}^2$ nur für die klassische und nicht für die empirische Varianz gilt."
   ]
  },
  {
   "cell_type": "code",
   "execution_count": 19,
   "metadata": {},
   "outputs": [
    {
     "data": {
      "text/plain": [
       "11.0"
      ]
     },
     "execution_count": 19,
     "metadata": {},
     "output_type": "execute_result"
    }
   ],
   "source": [
    "np.var(my_list, ddof=1)"
   ]
  },
  {
   "attachments": {},
   "cell_type": "markdown",
   "metadata": {},
   "source": [
    "## Histogramme\n",
    "\n",
    "Histogramme dienen der graphischen Darstellung einer Häufigkeitsverteilung eines Datensatzes. Somit bekommt man einen \n",
    "Eindruck davon, welche Werte in einem Datensatz dominant sind. Eine mögliche Anwendung ist z.B. die Visualisierung von\n",
    "Spektren. Ein Beispiel (mit artifiziellen Daten) sieht in Python wie folgt aus:"
   ]
  },
  {
   "cell_type": "code",
   "execution_count": 18,
   "metadata": {},
   "outputs": [
    {
     "data": {
      "image/png": "[encoded data removed]",
      "text/plain": [
       "<Figure size 936x612 with 1 Axes>"
      ]
     },
     "metadata": {},
     "output_type": "display_data"
    }
   ],
   "source": [
    "import matplotlib.pyplot as plt\n",
    "import numpy as np\n",
    "\n",
    "# Generierung unserer Daten\n",
    "np.random.seed(25763946)\n",
    "data = np.random.normal(loc=0, scale=1, size=10000)\n",
    "\n",
    "# Plotten der Daten als Histogramm\n",
    "num_bins = 100\n",
    "plt.hist(data, num_bins, density=True)\n",
    "plt.show()"
   ]
  },
  {
   "attachments": {},
   "cell_type": "markdown",
   "metadata": {},
   "source": [
    "Als Datensatz haben wir 10.000 normalverteilte Zufallszahlen generiert. Neu ist hierbei, dass wir einen sogenannten `Seed`\n",
    "benutzt haben. Dieser erlaubt es, dass die Berechnung deterministisch, also reproduzierbar wird.\n",
    "\n",
    "Im zweiten Teil des Codes haben wir dann festgelegt, wieviele `bins` wir benutzen möchten. Mit `bin` meint man einfach nur\n",
    "einen Balken im Histogramm. Somit sagt dann die Anzahl der `bins` aus, wieviele solcher Balken in dem Intervall der Daten \n",
    "genutzt werden sollen. Zusätzlich haben wir noch das Histogramm normalisiert, sodass die Fläche unter dem Histogramm (also \n",
    "das Integral) 1 wird und man damit das Histogramm als Verteilung ansehen kann.\n",
    "\n",
    "```{admonition} Zufallszahlen in Computern\n",
    ":class: info, dropdown\n",
    "Beim Arbeiten mit Zufallszahlen mit Computern muss man immer eine Sache im Hinterkopf behalten: auch wenn immer von \n",
    "*Zufallszahlen* gesprochen wird, sind diese **nie** wirklich zufällig, weshalb es richtiger ist von \n",
    "*Pseudo*-Zufallszahlen zu sprechen.\n",
    "\n",
    "Denn man muss hierbei beachten, dass **alle** Vorgänge in einem Computer (sofern man von potenziellen Hardware Bugs \n",
    "absieht) immer und zu jedem Zeitpunkt völlig deterministisch sind. Ebenso sind Zufallszahlen-Generatoren determinsitisch \n",
    "und produzieren nur *scheinbar* zufällige Zahlen.\n",
    "\n",
    "Mit diesem Hintergrund wird auch klar, weshalb der oben genannte `Seed` die Berechnung reproduzierbar macht. Denn mit \n",
    "dieser Zahl initialisieren wir den Zufallszahlen-Genereator bei jedem Aufruf exakt gleich und erhalten damit bei jeder \n",
    "Ausführung das gleiche Ergebnis.\n",
    "```\n",
    "\n",
    "Damit ist dieses Kapitel abgeschlossen."
   ]
  },
  {
   "cell_type": "code",
   "execution_count": null,
   "metadata": {},
   "outputs": [],
   "source": []
  }
 ],
 "metadata": {
  "kernelspec": {
   "display_name": "Python 3",
   "language": "python",
   "name": "python3"
  },
  "language_info": {
   "codemirror_mode": {
    "name": "ipython",
    "version": 3
   },
   "file_extension": ".py",
   "mimetype": "text/x-python",
   "name": "python",
   "nbconvert_exporter": "python",
   "pygments_lexer": "ipython3",
   "version": "3.8.16"
  },
  "orig_nbformat": 4
 },
 "nbformat": 4,
 "nbformat_minor": 2
}
