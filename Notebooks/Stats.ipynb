{
 "cells": [
  {
   "attachments": {},
   "cell_type": "markdown",
   "metadata": {},
   "source": [
    "# Mittelwert, Varianz und Histogramme\n",
    "\n",
    "In diesem Kapitel werden wir uns um das Berechnen von Mittelwert, Varianz und Streuung kümmern, sowie dem Plotten von\n",
    "Histogrammen."
   ]
  },
  {
   "attachments": {},
   "cell_type": "markdown",
   "metadata": {},
   "source": [
    "## Der Mittelwert\n",
    "\n",
    "Der Mittelwert, oder auch arithmetisches Mittel, dürfte bereits aus der Schule bekannt sein, weshalb wir uns direkt um die \n",
    "konkrete Implementierung kümmern werden. Denn dafür bietet Python einige verschiedene Varianten. Zunächst schauen\n",
    "wir uns die einfachste Implementierung an:"
   ]
  },
  {
   "cell_type": "code",
   "execution_count": 1,
   "metadata": {},
   "outputs": [
    {
     "data": {
      "text/plain": [
       "5.0"
      ]
     },
     "execution_count": 1,
     "metadata": {},
     "output_type": "execute_result"
    }
   ],
   "source": [
    "def my_mean(ls: list) -> float:\n",
    "    # speichert die Summe der Einträge\n",
    "    s = 0.\n",
    "    # speichert die Länge der Liste\n",
    "    l = len(ls)\n",
    "\n",
    "    # aufsummieren der Einträge\n",
    "    for elem in ls:\n",
    "        s += elem\n",
    "    \n",
    "    # wir teilen die Summe mit der Länge\n",
    "    # der Liste und geben das Ergebnis zurück\n",
    "    return s/l\n",
    "\n",
    "my_list = list(range(11))\n",
    "\n",
    "my_mean(my_list)"
   ]
  },
  {
   "attachments": {},
   "cell_type": "markdown",
   "metadata": {},
   "source": [
    "Dieses Programm ist leicht zu lesen und man sieht genau, was passiert, aber es ist nicht unbedingt die Version, die man in Python bevorzugen sollte. Da nämlich das Berechnen einer Summe über ein Liste von Werten etwas sehr alltägliches ist, \n",
    "stellt Python dafür eine eingebaute Funktion zur Verfügung. Außerdem sieht in obigen Programm leicht, dass wir dort zwei \n",
    "unnötige Variablen genutzt haben. Implementiert man alle gerade besprochenen Änderungen, so erhält man:"
   ]
  },
  {
   "cell_type": "code",
   "execution_count": 2,
   "metadata": {},
   "outputs": [
    {
     "data": {
      "text/plain": [
       "5.0"
      ]
     },
     "execution_count": 2,
     "metadata": {},
     "output_type": "execute_result"
    }
   ],
   "source": [
    "def my_simpler_mean(ls: list) -> float:\n",
    "    return sum(ls)/len(ls)\n",
    "\n",
    "my_simpler_mean(my_list)"
   ]
  },
  {
   "attachments": {},
   "cell_type": "markdown",
   "metadata": {},
   "source": [
    "Dieser Code ist eindeutig wesentlich aufgeräumter! Man kann dies aber sogar noch einfacher (und schneller) implementieren.\n",
    "Dafür nutzt man einfach `numpy`. Mit `numpy` sieht dies dann wie folgt aus:"
   ]
  },
  {
   "cell_type": "code",
   "execution_count": 3,
   "metadata": {},
   "outputs": [
    {
     "data": {
      "text/plain": [
       "5.0"
      ]
     },
     "execution_count": 3,
     "metadata": {},
     "output_type": "execute_result"
    }
   ],
   "source": [
    "import numpy as np\n",
    "\n",
    "np.mean(my_list)"
   ]
  },
  {
   "attachments": {},
   "cell_type": "markdown",
   "metadata": {},
   "source": [
    "``````{admonition} Eingabe- und Rückgabetypen von Funktionen\n",
    ":class: info, dropdown\n",
    "In unseren hier vorgestellten Code-Beispielen haben wir erstmals konkrete Typ-Annotationen genutzt. Diese sagen im\n",
    "Wesentlichen aus, welche Arten von Parametern an die Funktion übergeben werden sollen und was man als Rückgabe\n",
    "erwarten darf. Diese dienen (in Python) aber mehr als Dokumentation, da die tatsächlichen Typen **nicht** beachtet werden.\n",
    "Dennoch ist es sinnvoll, dass man die Typ-Annotationen nutzt, da man dann leichter den Überblick behält.\n",
    "``````"
   ]
  },
  {
   "attachments": {},
   "cell_type": "markdown",
   "metadata": {},
   "source": []
  }
 ],
 "metadata": {
  "kernelspec": {
   "display_name": "Python 3",
   "language": "python",
   "name": "python3"
  },
  "language_info": {
   "codemirror_mode": {
    "name": "ipython",
    "version": 3
   },
   "file_extension": ".py",
   "mimetype": "text/x-python",
   "name": "python",
   "nbconvert_exporter": "python",
   "pygments_lexer": "ipython3",
   "version": "3.10.6"
  },
  "orig_nbformat": 4
 },
 "nbformat": 4,
 "nbformat_minor": 2
}
