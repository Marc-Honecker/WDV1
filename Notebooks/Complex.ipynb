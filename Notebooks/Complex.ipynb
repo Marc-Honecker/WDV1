{
 "cells": [
  {
   "cell_type": "markdown",
   "metadata": {},
   "source": [
    "# Komplexe Zahlen und Rechenregeln mit Gleitkomma-Zahlen\n",
    "\n",
    "Im ersten Teil diesen Kapitels werden wir uns um das Rechenen mit komplexen Zahlen mit Python kümmern. Im zweiten Teil von\n",
    "diesem Kapitel schauen wir uns dann noch Probleme an, die beim Rechnen mit Gleitkomma-Zahlen entstehen."
   ]
  },
  {
   "cell_type": "markdown",
   "metadata": {},
   "source": [
    "## Komplexe Zahlen\n",
    "\n",
    "Schauen wir uns am besten zuerst an, wie man eine komplexe Zahl in Python erstellt:"
   ]
  },
  {
   "cell_type": "code",
   "execution_count": 2,
   "metadata": {},
   "outputs": [
    {
     "data": {
      "text/plain": [
       "(2.5+4j)"
      ]
     },
     "execution_count": 2,
     "metadata": {},
     "output_type": "execute_result"
    }
   ],
   "source": [
    "complex_num = 2.5 + 4j\n",
    "\n",
    "complex_num"
   ]
  },
  {
   "cell_type": "markdown",
   "metadata": {},
   "source": [
    "Das erste, was sehr stark ins Auge fällt, ist mit Sicherheit, dass das Symbol der **imaginären Einheit i** in Python \n",
    "durch ein **j** dargestellt wird. Die Gründe hierfür ist total praktischer Natur:\n",
    "\n",
    "* Der Buchstabe **i** wird oft als Laufindex in einer Schleife genutzt und dies würde dann zu Konfusion führen.\n",
    "* Zusätzlich kann man **i** sehr leicht mit dem Buchstaben **l** oder **1** verwechseln.\n",
    "\n",
    "Außerdem fällt auf, dass wir komplexe Zahlen ohne irgenwelche imports benutzen können. Rechnen kann man mit komplexen\n",
    "Zahlen, wie man es erwarten würde:"
   ]
  },
  {
   "cell_type": "code",
   "execution_count": 4,
   "metadata": {},
   "outputs": [
    {
     "name": "stdout",
     "output_type": "stream",
     "text": [
      "(3.5+5.5j)\n",
      "(1.5+0.5j)\n",
      "(-5+9.25j)\n",
      "(1.3793103448275863-0.44827586206896547j)\n"
     ]
    }
   ],
   "source": [
    "a = 2.5 + 3j\n",
    "b = 1 + 2.5j\n",
    "\n",
    "# Addition\n",
    "print(a + b)\n",
    "# Subtraktion\n",
    "print(a - b)\n",
    "# Multiplikation\n",
    "print(a * b)\n",
    "# Division\n",
    "print(a / b)"
   ]
  },
  {
   "cell_type": "markdown",
   "metadata": {},
   "source": [
    "Ebenso kann man auch Listen von komplexen Zahlen erstellen:"
   ]
  },
  {
   "cell_type": "code",
   "execution_count": 5,
   "metadata": {},
   "outputs": [
    {
     "data": {
      "text/plain": [
       "[10j,\n",
       " (1+10j),\n",
       " (2+10j),\n",
       " (3+10j),\n",
       " (4+10j),\n",
       " (5+10j),\n",
       " (6+10j),\n",
       " (7+10j),\n",
       " (8+10j),\n",
       " (9+10j)]"
      ]
     },
     "execution_count": 5,
     "metadata": {},
     "output_type": "execute_result"
    }
   ],
   "source": [
    "complex_ls = list()\n",
    "\n",
    "for num in range(10):\n",
    "    num = num + 10j\n",
    "    complex_ls.append(num)\n",
    "\n",
    "complex_ls"
   ]
  },
  {
   "cell_type": "markdown",
   "metadata": {},
   "source": [
    "## Rechenregeln mit Gleitkommazahlen\n",
    "\n",
    "Wie der ein oder andere im Laufe des Kurses gemerkt haben könnte, können beim Rechnen mit Gleitkommazahlen einige Probleme\n",
    "entstehen. Schauen wir uns den folgenden Code einmal an:"
   ]
  },
  {
   "cell_type": "code",
   "execution_count": 14,
   "metadata": {},
   "outputs": [
    {
     "data": {
      "text/plain": [
       "False"
      ]
     },
     "execution_count": 14,
     "metadata": {},
     "output_type": "execute_result"
    }
   ],
   "source": [
    "a = 5.001\n",
    "b = 2.001 + 3.0\n",
    "\n",
    "a == b"
   ]
  },
  {
   "cell_type": "markdown",
   "metadata": {},
   "source": [
    "Offensichtlich sollte `5.001 == 2.001 + 3.0` gelten, aber Python sagt uns, dass dies falsch ist! Jedoch warum ist dies \n",
    "falsch? Dies liegt ganz einfach daran, dass wir Menschen im **Zehner**-System rechnen, aber ein Computer im **Binär**-System\n",
    "rechnet mit endlicher Genauigkeit. Und bei dieser Umwandlung kommt es zu solch skurilen Problemen (die an einigen Stellen\n",
    "zu großen Problemen geführt haben). Deshalb **darf man niemals** Gleitkomma-Zahlen direkt auf Gleichheit prüfen. \n",
    "\n",
    "Sicherer ist es, Gleitkomma-Zahlen auf Ungleichheit zu prüfen. Ein Beispiel:"
   ]
  },
  {
   "cell_type": "code",
   "execution_count": 15,
   "metadata": {},
   "outputs": [
    {
     "data": {
      "text/plain": [
       "True"
      ]
     },
     "execution_count": 15,
     "metadata": {},
     "output_type": "execute_result"
    }
   ],
   "source": [
    "a = 2.000001\n",
    "b = 2.0\n",
    "\n",
    "a > b"
   ]
  },
  {
   "cell_type": "markdown",
   "metadata": {},
   "source": [
    "Obwohl die Zahlen, die wir hier gewählt haben, sehr viel dichter beieinander liegen, als in dem Beispiel zuvor, verhält sich\n",
    "der Vergleich genauso, wie man es vermuten würde. Deshalb sollte man auch bei einem Test auf Gleichheit zweier Gleitkomma-\n",
    "Zahlen einen sogenannten Epsilon-Test durchführen. Dieses Konzept ist allerdings außerhalb der Abdeckung dieser Vorlesung."
   ]
  },
  {
   "cell_type": "code",
   "execution_count": null,
   "metadata": {},
   "outputs": [],
   "source": []
  }
 ],
 "metadata": {
  "kernelspec": {
   "display_name": "Python 3",
   "language": "python",
   "name": "python3"
  },
  "language_info": {
   "codemirror_mode": {
    "name": "ipython",
    "version": 3
   },
   "file_extension": ".py",
   "mimetype": "text/x-python",
   "name": "python",
   "nbconvert_exporter": "python",
   "pygments_lexer": "ipython3",
   "version": "3.10.6"
  },
  "orig_nbformat": 4
 },
 "nbformat": 4,
 "nbformat_minor": 2
}
