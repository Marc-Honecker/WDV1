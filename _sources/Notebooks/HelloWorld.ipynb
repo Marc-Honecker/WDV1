{
 "cells": [
  {
   "attachments": {},
   "cell_type": "markdown",
   "metadata": {},
   "source": [
    "# Für Programmieranfänger\n",
    "\n",
    "Traditionell ist \"Hello World!\" das erste Programm, welches man in einer neuen Programmiersprache schreibt.\n",
    "Dieses Programm tut nichts anderes als den Text \"Hello World!\" auszugeben. \n",
    "Diese Aufgabe ist in Python jedoch so simpel, dass wir sie etwas anpassen werden um Sie mit den Strukturen vertraut machen, die sie in Ihren Computerprogrammen brauchen werden.\n",
    "Eine reine \"Hello World!\"-Aufgabe lässt sich in Python mit einer einzigen Zeile lösen:"
   ]
  },
  {
   "cell_type": "code",
   "execution_count": 34,
   "metadata": {},
   "outputs": [
    {
     "name": "stdout",
     "output_type": "stream",
     "text": [
      "Hello World!\n"
     ]
    }
   ],
   "source": [
    "print(\"Hello World!\")"
   ]
  },
  {
   "attachments": {},
   "cell_type": "markdown",
   "metadata": {},
   "source": [
    "Der einzige Lerninhalt dieses Beispiels ist der Aufruf der (in Python vordefinierten) **Funktion** `print()` (dt. drucken), die als **Argument** den zu \"druckenden\" Text nimmt. \n",
    "An dieser Stelle übernehmen Programmierersprachen die mathematische Notation und Nomenklatur: $x$ wird ebenfalls als *Argument* der *Funktion* $f(x)$ bezeichnet. \n",
    "\n",
    "Eine (von anderen Programmiersprachen inspirierte) Variante des \"Hello World!\"-Programms könnte so aussehen:"
   ]
  },
  {
   "cell_type": "code",
   "execution_count": 35,
   "metadata": {},
   "outputs": [
    {
     "name": "stdout",
     "output_type": "stream",
     "text": [
      "Hello World!\n"
     ]
    }
   ],
   "source": [
    "def main():\n",
    "    print(\"Hello World!\")\n",
    "\n",
    "main()"
   ]
  },
  {
   "attachments": {},
   "cell_type": "markdown",
   "metadata": {},
   "source": [
    "In diesem Beispiel haben wir:\n",
    "1. Die **Definition** der Funktion `main()`: In Python geschieht dies mit dem Schlüsselwort `def`. \n",
    "2. **Indentation**: Welche Code-Zeilen zu einer Einheit (hier: zu einer Funktion) gehören, wird in Python stets durch identisches Einrücken gekennzeichnet. \n",
    "3. Den **Aufruf** der zuvor definierten `main()`-Funktion.\n",
    "\n",
    "Die korrekte Indentation von Zeilen ist in Python verpflichtend, also wesentlicher Teil der Syntax! \n",
    "Das steht im Gegensatz zu fast allen anderen Programmiersprachen, wo Indentation lediglich eine Konvention zur besseren Lesbarkeit darstellt und die Zugehörigkeit von Code-Blöcken z.B. durch geschweifte Klammern `{}` signalisiert werden muss."
   ]
  },
  {
   "attachments": {},
   "cell_type": "markdown",
   "metadata": {},
   "source": [
    "\n",
    "``````{admonition} Das \"Hello World!\"-Programm in anderen Programmiersprachen\n",
    ":class: tip, dropdown\n",
    "In vielen anderen Programmiersprachen ist die Definition einer `main()`-Funktion vorgeschrieben, mit deren Aufruf immer das eigentliche Programm beginnt.\n",
    "Eine häufige Konvention ist, dass diese Funktion eine natürliche Zahl, den sogenannten **Exit Code** zurückgibt. \n",
    "Anhand des Exit Codes lässt sich z.B. von außerhalb des Programms feststellen, ob das Programm ohne Fehler durchgelaufen ist, oder bereits in einem Zwischenschritt beendet wurde. \n",
    "Einige Beispiele wären (nur zur Illustration):\n",
    "\n",
    "`````{tab-set}\n",
    "````{tab-item} C\n",
    "```c\n",
    "# include <stdio.h>\n",
    "\n",
    "int main() {\n",
    "    printf(\"Hello World!\\n\");\n",
    "    return 0;\n",
    "}\n",
    "```\n",
    "````\n",
    "\n",
    "````{tab-item} C++\n",
    "```c++\n",
    "#include <iostream>\n",
    "\n",
    "int main() {\n",
    "    std::cout << \"Hello World!\" << std::endl;\n",
    "    return 0;\n",
    "}\n",
    "```\n",
    "````\n",
    "\n",
    "````{tab-item} Java\n",
    "```java\n",
    "class Main {\n",
    "    public static void main(String[] args) {\n",
    "        System.out.println(\"Hello World!\");\n",
    "    }\n",
    "}\n",
    "```\n",
    "````\n",
    "\n",
    "````{tab-item} Rust\n",
    "```rust\n",
    "fn main() {\n",
    "    println!(\"Hello World!\");\n",
    "}\n",
    "```\n",
    "````\n",
    "`````\n",
    "``````"
   ]
  },
  {
   "attachments": {},
   "cell_type": "markdown",
   "metadata": {},
   "source": [
    "Neben \"Hello World!\" wird Anfängern auch oft empfohlen einen Taschenrechner zu programmieren. \n",
    "Wir empfinden die Verarbeitung von Eingaben des Nutzers allerdings als unwichtig für diesen Kurs und halten es für selbstverständlich, dass alle Programmiersprachen die Grundrechenarten beherrschen:"
   ]
  },
  {
   "cell_type": "code",
   "execution_count": 36,
   "metadata": {},
   "outputs": [
    {
     "name": "stdout",
     "output_type": "stream",
     "text": [
      "3\n",
      "-1\n",
      "2\n",
      "0.5\n"
     ]
    }
   ],
   "source": [
    "print(1+2)\n",
    "print(1-2)\n",
    "print(1*2)\n",
    "print(1/2)"
   ]
  },
  {
   "attachments": {},
   "cell_type": "markdown",
   "metadata": {},
   "source": [
    "## Das verbesserte Hello World! - Programm\n",
    "\n",
    "Wir wollen die Aufgabe unseres \"Hello World!\"-Programms nun etwas erweitern, sodass es nicht nur die Welt, sondern auch Personen begrüßen kann, und zwar beliebig oft und mit Wochentag-abhängiger Freundlichkeit.\n",
    "(Letzteres bedeutet nicht, dass wir ein Programm mit Gefühlen entwickeln, sondern lediglich, dass es **Fallunterscheidungen** macht.)"
   ]
  },
  {
   "cell_type": "code",
   "execution_count": 37,
   "metadata": {},
   "outputs": [
    {
     "name": "stdout",
     "output_type": "stream",
     "text": [
      "Hello Tom\n",
      "Hello Anna\n",
      "Hello Peter\n",
      "Hello Julia\n"
     ]
    }
   ],
   "source": [
    "# Liste von Studenten\n",
    "student = [\"Tom\", \"Anna\", \"Peter\", \"Julia\"]\n",
    "\n",
    "print(\"Hello \" + student[0])\n",
    "print(\"Hello \" + student[1])\n",
    "print(\"Hello \" + student[2])\n",
    "print(\"Hello \" + student[3])"
   ]
  },
  {
   "attachments": {},
   "cell_type": "markdown",
   "metadata": {},
   "source": [
    "In diesem Code kommen gleich mehrere neue Konzepte vor:\n",
    "\n",
    "1. Ein **Kommentar:** Hierbei handelt es sich um eine Notiz des Programmieres. Alles was hinter einem `#`-Symbol steht, wird vom Computer beim Ausführen des Programms ignoriert und dient lediglich als Hinweis für den Menschen, der den Code liest.\n",
    "2. Die Definition einer sogenannten **Variable** namens `student`, der wir eine Liste zuordnen. Falls Sie noch nie programmiert haben, wundern Sie sich an dieser Stelle vielleicht, dass das Gleichheitszeichen nicht genau im mathematischen Sinne verwendet wird, sondern als Zuordnungssymbol. Diese Konvention teilen sich fast alle Programmiersprachen.\n",
    "3. Eine **Liste:** Dies ist eine Art von **Container** (dt. Behälter), der in Python mit eckigen Klammern `[]` gekennzeichnet wird und beliebige Einträge enthalten kann. Die in dieser Liste enthaltenen Text-Objekte werden in Programmiersprachen auch **Strings** genannt. Für Zahlen gibt es allerdings bessere Container-Varianten als die einfache Liste, was Sie in den folgenden Kapiteln merken werden.\n",
    "4. Der Zugriff auf die Elemente eines Containers mit eckigen Klammern `[]`: Hierbei sollten Sie sich vor allem merken, dass die Elemente von geordneten Containern in Python immer beginnend mit dem Index `0` nummeriert werden. Auch diese Konvention teilt sich Python mit vielen anderen Programmiersprachen.\n",
    "5. Das Zusammenfügen von zwei Strings zu einem längeren String mit dem `+`-Operator. "
   ]
  },
  {
   "attachments": {},
   "cell_type": "markdown",
   "metadata": {},
   "source": [
    "Sie können sich nun hoffentlich vorstellen, dass die obige Methode zur Begrüßung aller Studenten sehr schreibaufwendig wird, wenn die Liste eine große Anzahl an Namen enthält. \n",
    "Deshalb bieten Programmiersprachen eine Lösung für sich ständig wiederholende Abläufe bereit: ***Schleifen***."
   ]
  },
  {
   "cell_type": "markdown",
   "metadata": {},
   "source": [
    "### Schleifen (engl. Loops)\n",
    "\n",
    "Also schreiben wir unser letztes Programm ein wenig um."
   ]
  },
  {
   "cell_type": "code",
   "execution_count": 38,
   "metadata": {},
   "outputs": [
    {
     "name": "stdout",
     "output_type": "stream",
     "text": [
      "Hello Tom\n",
      "Hello Anna\n",
      "Hello Peter\n",
      "Hello Julia\n"
     ]
    }
   ],
   "source": [
    "# Liste von Studenten\n",
    "student = [\"Tom\", \"Anna\", \"Peter\", \"Julia\"]\n",
    "\n",
    "for i in range(len(student)):\n",
    "    print(\"Hello \" + student[i])"
   ]
  },
  {
   "attachments": {},
   "cell_type": "markdown",
   "metadata": {},
   "source": [
    "Wir halten fest:\n",
    "\n",
    "1. Der `for`-Loop ist der meist-genutzte Typ von Schleifen in Python, welcher die eingerückten Zeilen für verschiedene Werte von `i` wiederholt. Dabei nennt man `i` eine **Laufvariable** und jede Wiederholung eine **Iteration**.\n",
    "2. Die `range()`-Funktion beschreibt das Intervall von Zahlen, die im Loop für `i` eingesetzt werden.\n",
    "3. Die in Python vordefinierte `len()`-Funktion nimmt einen Container als Argument und gibt die Anzahl an Elementen in diesem Container zurück.\n",
    "\n",
    "Die Syntax von Schleifen ist im Wesentlichen immer wie oben gezeigt. Die häufig auftretende `range()`-Funktion soll aufgrund ihrer häufigen Anwendung hier noch etwas genauer erläutert werden. \n",
    "Sie gibt eine Reihe oder Folge (engl. range) von (ganzen) Zahlen zurück. Hierbei gibt es insgsamt drei verschiedene Fälle:\n",
    "- `range(n)`: Hier wird eine Reihe von Zahlen beginnend bei 0 und endend bei **n-1** (also insgesamt **n** Zahlen) erzeugt\n",
    "- `range(a,b)`: Hier wird eine Reihe von Zahlen beginnend bei `a` und endend bei **b-1** erzeugt.\n",
    "- `range(a,b,inc)`: Hier wird eine Reihe von Zahlen erzeugt, die bei `a` startet, wobei immer um `inc` hochgezählt wird.\n",
    "\n",
    "`range()` stellt ein Beispiel dafür da, dass die selbe Funktion verschiedene Anzahlen von Argumenten nehmen kann. \n",
    "Definitionen von Python-Funktionen haben sehr oft eine Vielzahl von Argumenten, von denen die meisten optional sind, bzw. einen \"default\" Wert haben. \n",
    "Mehr dazu später.\n",
    "\n",
    "`len()` stellt ein Beispiel für eine Funktion dar, die einen Wert zurückgibt (engl. **return**) an das Programm, das sie aufruft. \n",
    "Dieser Wert ist in diesem Fall eine Zahl, kann im Allgemeinen aber auch etwas anderes sein."
   ]
  },
  {
   "attachments": {},
   "cell_type": "markdown",
   "metadata": {},
   "source": [
    "Die obige Lösung zur Begrüßung der Studenten ist bereits viel besser als die Variante ohne `for`-Schleife, ist aber immer noch bestenfalls als altmodisch zu bezeichnen.\n",
    "Sogenannte \"höhere\" Programmiersprachen unterscheiden sich von \"maschinennahen\" Programmiersprachen dadurch, dass sie bereits relativ nah an der menschlichen Sprache sind.\n",
    "Für einen Menschen hört es sich sehr umständlich an zu sagen \"Für alle natürlichen Zahlen von 0 bis 3 in aufsteigender Reihenfolge begrüße ich den Studenten mit dem betreffenden Index in meiner Liste von Studenten\". \n",
    "Einem Menschen genügt es zu sagen \"Ich begrüße die Studenten in meiner Studentenliste\", da man sich einfach denken kann, dass er die Liste dabei von oben nach unten durchgeht.\n",
    "Aus diesem Grund kann ein `for`-Loop in Python nicht nur über eine `range()` iterieren, sondern auch z.B. direkt über eine Liste (oder jeden beliebigen anderen Container):"
   ]
  },
  {
   "cell_type": "code",
   "execution_count": 39,
   "metadata": {},
   "outputs": [
    {
     "name": "stdout",
     "output_type": "stream",
     "text": [
      "Hello Tom\n",
      "Hello Anna\n",
      "Hello Peter\n",
      "Hello Julia\n"
     ]
    }
   ],
   "source": [
    "student_list = [\"Tom\", \"Anna\", \"Peter\", \"Julia\"]\n",
    "\n",
    "def greet(name):\n",
    "    print(\"Hello \" + name)\n",
    "\n",
    "for student in student_list:\n",
    "    greet(student)"
   ]
  },
  {
   "attachments": {},
   "cell_type": "markdown",
   "metadata": {},
   "source": [
    "Etwas weniger häufig als die `for`-Schleife ist die sogenannte `while`-Schleife. `while`-Schleifen führen einen Code-Abschnitt genau so lange aus, wie eine Bedingung gilt (also in unserem Beispiel solange `start < end`).\n",
    "\n",
    "**Jedoch Vorsicht mit `while`-Schleifen**. Betrachten wir das folgende kleine Programm:\n",
    "\n",
    "```python\n",
    "def my_never_ending_loop():\n",
    "    while 1 > 0:\n",
    "        myvar = 1\n",
    "```\n",
    "\n",
    "Dieses Beispiel soll Ihnen zwei Dinge aufzeigen:\n",
    "1. Der **Vergleich** von Objekten mit den Operatoren `==`, `>=`, `<=`, `>`, `<` funktioniert für Zahlen wie in der Mathematik. Da `=` bereits als Zuordnungssymbol vergeben ist, nutzt man in Programmiersprachen stattdessen `==` zur Prüfung auf Gleichheit. Ist die gegebene (Un)Gleichung erfüllt, gibt der Ausdruck `True` (dt. wahr) zurück und ansonsten `False` (dt. falsch).\n",
    "2. Der Computer macht genau das was sie ihm anweisen und mit großer Macht kommt große Verantwortung. Es sollte offensichtlich sein, dass das Programm mit der obigen Schleife niemals enden würde! Falls Ihnen ein solcher Fehler passiert, können Sie die Ausführung üblicherweise abbrechen mit der Tastenkombination **Strg+C**. \n",
    "\n",
    "Auch wenn Sie `while`-Schleifen in diesem Kurs nicht unbedingt nutzen werden, sind Sie nun zumindest vorbereitet, wenn sie Ihnen mal begegnen."
   ]
  },
  {
   "attachments": {},
   "cell_type": "markdown",
   "metadata": {},
   "source": [
    "### Die `if-else` Fallunterscheidung\n",
    "\n",
    "Basierend auf dem zuletzt eingeführten Konzept von `True` und `False`, können wir auch eine Fallunterscheidung realisieren. \n",
    "Vielleicht möchte man die Welt z.B. an allen Wochentagen mit einem freundlichen `Hello beautiful World!` begrüßen, außer natürlich montags. \n",
    "Eine mögliche Implementierung wäre die Folgende:"
   ]
  },
  {
   "cell_type": "code",
   "execution_count": 40,
   "metadata": {},
   "outputs": [
    {
     "name": "stdout",
     "output_type": "stream",
     "text": [
      "Hello Beautiful World!\n"
     ]
    }
   ],
   "source": [
    "import datetime\n",
    "\n",
    "def main():\n",
    "    # weekday() gibt Zahlen von 0-6 zurück, 0 steht für Montag; 6 für Sonntag\n",
    "    if datetime.datetime.today().weekday() == 0:\n",
    "        print(\"hello World.\")\n",
    "    else:\n",
    "        print(\"Hello Beautiful World!\")\n",
    "        \n",
    "main()"
   ]
  },
  {
   "attachments": {},
   "cell_type": "markdown",
   "metadata": {},
   "source": [
    "Dieser Code zeigt Ihnen:\n",
    "1. Die `import`-Funktion von Python, mit der Sie zusätzliche Inhalte aus Modulen importieren können. Module enthalten im Wesentlichen weitere vordefinierte Funktionen zusätzlich zur Python-Basissprache. Sie können entweder in der Python-Umgebung (engl. Environment) installiert sein oder in einer '.py'-Datei im aktuellen Arbeitsverzeichnis zu finden sein. Tatsächlich ist das hervorragende Angebot an Modulen der große Pluspunkt, der Python seit Jahren zu einer der populärsten Programmiersprachen macht.\n",
    "2. Eine `if`-`else`-Fallunterscheidung: Der eingerückte Block hinter `if ___:` wird nur ausgeführt, wenn die Bedingung `___` als `True` ausgewertet wird. Andernfalls wird nur der `else`-Zweig ausgeführt.\n",
    "Wird also als Ergebnis des obigen Code-Blocks bei Ihnen \"Hello World.\" angezeigt, können Sie sicher sein, dass der Inhalt dieses Dokuments zuletzt an einem Montag aktualisiert wurde. \n",
    "\n",
    "Operationen, die `True` oder `False` als Eingangsgröße und/oder Ergebnis haben, werden unter dem Begriff der **booleschen Algebra** zusammengefasst. \n",
    "Unter der Haube macht Digitaltechnik nichts anderes als ausschließlich boolesche Operationen.\n",
    "Da dies allerdings keine Informatik-Veranstaltung ist, sollte Ihnen das hier vermittelte Verständnis von booleschen Variablen zunächst ausreichen.\n",
    "\n",
    "`````{admonition} Boolesche Algebra\n",
    ":class: tip\n",
    "Boolesche Algebra steht im Übrigen auch hinter der Bedingung in der `While`-Schleife! Denn solange die Bedingung der Schleife wahr ist (also zu `True` auswertet), wird der Schleifenrumpf ausgeführt. Sobald die Bedingung nicht mehr wahr ist (also zu `False` auswertet), wird die Schleife abgebrochen, und es geht dahinter weiter.\n",
    "`````"
   ]
  },
  {
   "cell_type": "markdown",
   "metadata": {},
   "source": [
    "---\n",
    "\n",
    "***Damit ist unsere grundlegende Einleitung in Python abgeschlossen!*** In den nächsten Kapiteln werden die hier erlernten Fähigkeiten dann für Probleme mit physikalischem Hintergrund genutzt werden. Ebenso werden wir ab jetzt das eigentlich unnötige `main()`-Programm in Python nicht mehr benutzen und es darf damit wegelassen werden."
   ]
  }
 ],
 "metadata": {
  "kernelspec": {
   "display_name": "Python 3 (ipykernel)",
   "language": "python",
   "name": "python3"
  },
  "language_info": {
   "codemirror_mode": {
    "name": "ipython",
    "version": 3
   },
   "file_extension": ".py",
   "mimetype": "text/x-python",
   "name": "python",
   "nbconvert_exporter": "python",
   "pygments_lexer": "ipython3",
   "version": "3.8.13"
  },
  "vscode": {
   "interpreter": {
    "hash": "916dbcbb3f70747c44a77c7bcd40155683ae19c65e1c03b4aa3499c5328201f1"
   }
  }
 },
 "nbformat": 4,
 "nbformat_minor": 4
}
