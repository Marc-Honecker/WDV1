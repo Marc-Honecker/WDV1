{
 "cells": [
  {
   "attachments": {},
   "cell_type": "markdown",
   "metadata": {},
   "source": [
    "# Mittelwert, Varianz und Histogramme\n",
    "\n",
    "In diesem Kapitel werden wir uns um das Berechnen von Mittelwert, Varianz und Streuung kümmern, sowie dem Plotten von\n",
    "Histogrammen."
   ]
  },
  {
   "attachments": {},
   "cell_type": "markdown",
   "metadata": {},
   "source": [
    "## Der Mittelwert\n",
    "\n",
    "Der Mittelwert, oder auch arithmetisches Mittel (engl. sample mean), dürfte bereits aus der Schule bekannt sein. Dennoch \n",
    "werden wir die Definition hier noch einmal einführen, damit die hier verwendete Notation jedem bekannt ist. Es gilt:\n",
    "\n",
    "$$\n",
    "\\bar{x} = \\frac{1}{N} \\sum_{i=1}^N x_i\n",
    "$$\n",
    "\n",
    "Wollen wir dies in Python implementieren, so gibt es verschiedene Möglichkeiten. Die erste und wahrscheinlich \n",
    "offensichtlichste ist:"
   ]
  },
  {
   "cell_type": "code",
   "execution_count": 7,
   "metadata": {},
   "outputs": [
    {
     "data": {
      "text/plain": [
       "5.0"
      ]
     },
     "execution_count": 7,
     "metadata": {},
     "output_type": "execute_result"
    }
   ],
   "source": [
    "def my_mean(ls: list) -> float:\n",
    "    # speichert die Summe der Einträge\n",
    "    s = 0.\n",
    "    # speichert die Länge der Liste\n",
    "    l = len(ls)\n",
    "\n",
    "    # aufsummieren der Einträge\n",
    "    for elem in ls:\n",
    "        s += elem\n",
    "    \n",
    "    # wir teilen die Summe mit der Länge\n",
    "    # der Liste und geben das Ergebnis zurück\n",
    "    return s/l\n",
    "\n",
    "my_list = list(range(11))\n",
    "\n",
    "my_mean(my_list)"
   ]
  },
  {
   "attachments": {},
   "cell_type": "markdown",
   "metadata": {},
   "source": [
    "Dieses Programm ist leicht zu lesen und man sieht genau, was passiert, aber es ist nicht unbedingt die Version, die man in Python bevorzugen sollte. Da das Berechnen einer Summe über ein Liste von Werten etwas sehr alltägliches ist, \n",
    "stellt Python dafür eine eingebaute Funktion zur Verfügung. Außerdem sieht man in obigem Programm leicht, dass wir dort \n",
    "zwei unnötige Variablen genutzt haben. Implementiert man alle gerade besprochenen Änderungen, so erhält man:"
   ]
  },
  {
   "cell_type": "code",
   "execution_count": 8,
   "metadata": {},
   "outputs": [
    {
     "data": {
      "text/plain": [
       "5.0"
      ]
     },
     "execution_count": 8,
     "metadata": {},
     "output_type": "execute_result"
    }
   ],
   "source": [
    "def my_simpler_mean(ls: list) -> float:\n",
    "    return sum(ls)/len(ls)\n",
    "\n",
    "my_simpler_mean(my_list)"
   ]
  },
  {
   "attachments": {},
   "cell_type": "markdown",
   "metadata": {},
   "source": [
    "Dieser Code ist eindeutig wesentlich aufgeräumter! Man kann dies aber sogar noch einfacher (und schneller) implementieren.\n",
    "Dafür nutzt man einfach `numpy`. Mit `numpy` sieht dies dann wie folgt aus:"
   ]
  },
  {
   "cell_type": "code",
   "execution_count": 9,
   "metadata": {},
   "outputs": [
    {
     "data": {
      "text/plain": [
       "5.0"
      ]
     },
     "execution_count": 9,
     "metadata": {},
     "output_type": "execute_result"
    }
   ],
   "source": [
    "import numpy as np\n",
    "\n",
    "np.mean(my_list)"
   ]
  },
  {
   "attachments": {},
   "cell_type": "markdown",
   "metadata": {},
   "source": [
    "``````{admonition} Eingabe- und Rückgabetypen von Funktionen\n",
    ":class: info, dropdown\n",
    "In unseren hier vorgestellten Code-Beispielen haben wir erstmals konkrete Typ-Annotationen genutzt. Diese sagen im\n",
    "Wesentlichen aus, welche Arten von Parametern an die Funktion übergeben werden sollen und was man als Rückgabe\n",
    "erwarten darf. Diese dienen (in Python) aber mehr als Dokumentation, da die tatsächlichen Typen **nicht** beachtet werden.\n",
    "Dennoch ist es sinnvoll, dass man die Typ-Annotationen nutzt, da man dann leichter den Überblick behält.\n",
    "``````"
   ]
  },
  {
   "attachments": {},
   "cell_type": "markdown",
   "metadata": {},
   "source": [
    "## Varianz und Streuung\n",
    "\n",
    "Die Definition der empirischen Varianz lautet:\n",
    "\n",
    "$$\n",
    "s^2 = \\frac{1}{n-1} \\sum_{i=1}^N (x_i - \\bar{x})^2\n",
    "$$\n",
    "\n",
    "Die Streuung ist lediglich die Wurzel der Varianz, also einfach $s$. Auch hier werden wir wieder die offensichtliche \n",
    "Implementierung angeben und dann die `numpy` \"Implementierung\". Dies sieht dann wie folgt aus:"
   ]
  },
  {
   "cell_type": "code",
   "execution_count": 10,
   "metadata": {},
   "outputs": [],
   "source": [
    "def my_var(ls: list) -> float:\n",
    "    # wir brauchen zunächst den Mittelwert\n",
    "    x_bar = my_mean(ls)\n",
    "\n",
    "    # zum speichern der Summe\n",
    "    s_squared = 0.\n",
    "\n",
    "    # naive Schleife\n",
    "    for x_i in ls:\n",
    "        s_squared += (x_i - x_bar)**2\n",
    "\n",
    "    # zurückgeben des Ergebnisses\n",
    "    return s_squared / (len(ls) - 1)"
   ]
  },
  {
   "attachments": {},
   "cell_type": "markdown",
   "metadata": {},
   "source": [
    "Diese Implementierung ist wieder sehr ähnlich zu der naiven Implementierung des Mittelwertes. Allerdings können wir\n",
    "nicht direkt die verbesserte Version angeben. Denn `sum()` liefert nur die einfache Summe über die Einträge zurück\n",
    "nicht die quadritische Summe. Allerdings kann man dies einfach umgehen."
   ]
  },
  {
   "cell_type": "code",
   "execution_count": 11,
   "metadata": {},
   "outputs": [
    {
     "name": "stdout",
     "output_type": "stream",
     "text": [
      "11.0\n",
      "11.0\n"
     ]
    }
   ],
   "source": [
    "def my_simpler_var(ls: list) -> float:\n",
    "    # wie vorher\n",
    "    x_bar = my_mean(ls)\n",
    "\n",
    "    # bessere Implementierung mit list comprehension\n",
    "    s_squared = sum([(x_i - x_bar)**2 for x_i in ls])\n",
    "\n",
    "    # Rückgabe des Ergebnisses\n",
    "    return s_squared / (len(ls) - 1)\n",
    "\n",
    "# testen beider Funktionen\n",
    "print(my_var(my_list))\n",
    "print(my_simpler_var(my_list))"
   ]
  },
  {
   "attachments": {},
   "cell_type": "markdown",
   "metadata": {},
   "source": [
    "In dieser Implementierung haben wir eine sogenannte `list comprehension` genutzt. Dieses Tool ermöglicht es, dass man\n",
    "aus einer bereits gegebenen Liste eine neue Liste erstellt und gleichzeitig Operationen auf den Elementen ausführt.\n",
    "Dies haben wir in obigem Beispiel ausgenutzt und haben als Elemente der neuen Liste die $(x_i - \\bar{x})^2$ abgespeichert.\n",
    "Anschließend haben wir dann diese Liste direkt in die Summen Funktion gesteckt und dieses Ergebnis (wie vorher) in\n",
    "`s_squared` gespeichert. Dadurch konnten wir wieder die Implementierung wesentlich kürzer gestalten. Interessierte können\n",
    "[hier](https://www.w3schools.com/python/python_lists_comprehension.asp) mehr über die `list comprehension` erfahren.\n",
    "\n",
    "Die kürzeste Implementierung erfolgt aber natürlich wieder durch `numpy`. Hier erhalten wir:"
   ]
  },
  {
   "cell_type": "code",
   "execution_count": 13,
   "metadata": {},
   "outputs": [
    {
     "data": {
      "text/plain": [
       "11.0"
      ]
     },
     "execution_count": 13,
     "metadata": {},
     "output_type": "execute_result"
    }
   ],
   "source": [
    "np.var(my_list, ddof=1)"
   ]
  },
  {
   "attachments": {},
   "cell_type": "markdown",
   "metadata": {},
   "source": [
    "Man muss allerdings beachten, dass der Default von `numpy.var()` **keine** Korrektur vornimmt. Deshalb übergeben wir\n",
    "den Parameter `ddof=1`."
   ]
  },
  {
   "attachments": {},
   "cell_type": "markdown",
   "metadata": {},
   "source": [
    "``````{admonition} Korrektur der Varianz\n",
    ":class: info\n",
    "In unseren Beispielen haben wir die Varianz mit $\\frac{1}{N-1}$ normalisiert. Dies wird üblicherweise gemacht, weil die\n",
    "Normalisierung mit $\\frac{1}{N}$ die Varianz 'unterschätzt'. Wirkliche Auswirkungen hat dies aber natürlich nur für\n",
    "kleine $N$, weil $\\frac{1}{N} \\approx \\frac{1}{N-1}$, für $N \\rightarrow \\infty$. Dennoch ist es formal richtiger mit\n",
    "$\\frac{1}{N-1}$ zu normalisieren.\n",
    "``````"
   ]
  },
  {
   "attachments": {},
   "cell_type": "markdown",
   "metadata": {},
   "source": [
    "## Histogramme\n",
    "\n",
    "Histogramme dienen der graphischen Darstellung einer Häufigkeitsverteilung eines Datensatzes. Somit bekommt man einen \n",
    "Eindruck davon, welche Werte in einem Datensatz dominant sind. Eine mögliche Anwendung ist z.B. die Visualisierung von\n",
    "Spektren. Ein Beispiel (mit artifiziellen Daten) sieht in Python wie folgt aus:"
   ]
  },
  {
   "cell_type": "code",
   "execution_count": 35,
   "metadata": {},
   "outputs": [
    {
     "data": {
      "image/png": "[encoded data removed]",
      "text/plain": [
       "<Figure size 640x480 with 1 Axes>"
      ]
     },
     "metadata": {},
     "output_type": "display_data"
    }
   ],
   "source": [
    "import matplotlib.pyplot as plt\n",
    "import numpy as np\n",
    "\n",
    "# Generierung unserer Daten\n",
    "np.random.seed(25763946)\n",
    "data = np.random.normal(loc=0, scale=1, size=10000)\n",
    "\n",
    "# Plotten der Daten als Histogramm\n",
    "num_bins = 100\n",
    "plt.hist(data, num_bins, density=True)\n",
    "plt.show()"
   ]
  },
  {
   "attachments": {},
   "cell_type": "markdown",
   "metadata": {},
   "source": [
    "Als Datensatz haben wir 10.000 normalverteilte Zufallszahlen generiert. Neu ist hierbei, dass wir einen sogenannten `Seed`\n",
    "benutzt haben. Dieser erlaubt es, dass die Berechnung deterministisch, also reproduzierbar wird.\n",
    "\n",
    "Im zweiten Teil des Codes haben wir dann festgelegt, wieviele `bins` wir benutzen möchten. Mit `bin` meint man einfach nur\n",
    "einen Balken im Histogramm. Somit sagt dann die Anzahl der `bins` aus, wieviele solcher Balken in dem Intervall der Daten \n",
    "genutzt werden sollen. Zusätzlich haben wir noch das Histogramm normalisiert, sodass die Fläche unter dem Histogramm (also \n",
    "das Integral) 1 wird und man damit das Histogramm als Verteilung ansehen kann.\n",
    "\n",
    "```{admonition} Zufallszahlen in Computern\n",
    ":class: info, dropdown\n",
    "Beim Arbeiten mit Zufallszahlen mit Computern muss man immer eine Sache im Hinterkopf behalten: auch wenn immer von \n",
    "*Zufallszahlen* gesprochen wird, sind diese **nie** wirklich zufällig, weshalb es richtiger ist von \n",
    "*Pseudo*-Zufallszahlen zu sprechen.\n",
    "\n",
    "Denn man muss hierbei beachten, dass **alle** Vorgänge in einem Computer (sofern man von potenziellen Hardware Bugs \n",
    "absieht) immer und zu jedem Zeitpunkt völlig deterministisch sind. Ebenso sind Zufallszahlen-Generatoren determinsitisch \n",
    "und produzieren nur *scheinbar* zufällige Zahlen.\n",
    "\n",
    "Mit diesem Hintergrund wird auch klar, weshalb der oben genannte `Seed` die Berechnung reproduzierbar macht. Denn mit \n",
    "dieser Zahl initialisieren wir den Zufallszahlen-Genereator bei jedem Aufruf exakt gleich und erhalten damit bei jeder \n",
    "Ausführung das gleiche Ergebnis.\n",
    "```\n",
    "\n",
    "Damit ist dieses Kapitel abgeschlossen."
   ]
  },
  {
   "cell_type": "code",
   "execution_count": null,
   "metadata": {},
   "outputs": [],
   "source": []
  }
 ],
 "metadata": {
  "kernelspec": {
   "display_name": "Python 3",
   "language": "python",
   "name": "python3"
  },
  "language_info": {
   "codemirror_mode": {
    "name": "ipython",
    "version": 3
   },
   "file_extension": ".py",
   "mimetype": "text/x-python",
   "name": "python",
   "nbconvert_exporter": "python",
   "pygments_lexer": "ipython3",
   "version": "3.10.6"
  },
  "orig_nbformat": 4
 },
 "nbformat": 4,
 "nbformat_minor": 2
}
