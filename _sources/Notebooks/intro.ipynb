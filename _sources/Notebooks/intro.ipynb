{
 "cells": [
  {
   "attachments": {},
   "cell_type": "markdown",
   "metadata": {},
   "source": [
    "# Vorbemerkungen zu Kurs und Skript\n",
    "\n",
    "In diesem Kurs soll Ihnen beigebracht werden, Computer zur Unterstützung diverser anderer Fächer zu verwenden. Als die dazu beste\n",
    "Programmiersprache hat sich (momentan) Python herauskristallisiert, auf das sich dieser Kurs fokussiert. Python ist bereits seit \n",
    "einigen Jahren State-Of-The-Art für viele Bereiche, sei es Scientific Computing oder (vor allem in den letzten Jahren) KI.\n",
    "Deshalb ist im Moment ein Ende seines Siegeszuges noch nicht absehbar.\n",
    "\n",
    "Für den Kurs haben wir einen \"ganzheitlichen\" Ansatz gewählt, der von üblichen Programmierkursen abweicht. Sie lernen also im \n",
    "übertragenen Sinne zunächst ganze Sätze ohne mit vielen grammatikalischen Begriffen konfrontiert zu werden. Damit sollen Sie\n",
    "schnell in die Lage versetzt werden kontinuierlich durch das Skript an Funktionen verschiedener Bibliotheken herangefürht zu \n",
    "werden. Damit werden an einigen Beispielen auch Hintergrund z.B. zu Numerik oder Statistik formlos gelehrt oder es wird aufgezeigt,\n",
    "wie die Probleme mit herkömmlichen Programmen (üblicherweise in Python Syntax) gelöst würden. Am Ende von WDV-1 sollten Sie dann in \n",
    "der Lage sein, echte Python Bücher (quer) zu lesen, aber auch schnell andere Programmiersprachen zu erlernen, wie z.B. C/C++.\n",
    "\n",
    "In den Hausaufgaben wird es zwei Testate geben, deren Bestehen Ihnen erlaubt an der finalen Leistungkontrolle, der Klausur,\n",
    "teilzunehmen. Weder bei Testaten, noch Klausuren sind Computer erlaubt. Das klingt paradox, aber es wäre sonst zu einfach zu \n",
    "mogeln. Leistungkontrollen werden vermutlich aus zwei, manchmal drei Teilen bestehen:\n",
    "\n",
    "1. Ein Teil, in dem Ihnen der Code gegeben wird und Sie vorhersagen müssen, was bei dei dessen Ausführung passiert.\n",
    "2. Ein Teil, in dem Sie selbst Python Code (oder Pseudo-Code) schreiben.\n",
    "3. Unter Umständen werden Sie noch aufgefordert, Fehler in einem gegebenen Code zu markieren/verbessern.\n",
    "\n",
    "**Dieses Skript ist kein Lehrbuch.** Details zur Syntax und andere Regeln werden in der Vorlesung und den Übungen erklärt oder \n",
    "können in den angegebenen Referenzen nachgeschlagen werden. Dieses Skript ist eher eine Ansammlung von kleinen kommentierten \n",
    "Code-Schnipseln.\n"
   ]
  },
  {
   "attachments": {},
   "cell_type": "markdown",
   "metadata": {},
   "source": [
    "## Ablauf einer Lehreinheit\n",
    "\n",
    "Eine Lehreinheit besteht aus 3 Lehrstunden zu je 45 Minuten. In der 1. Stunde werden die Hausaufgaben besprochen, in der 2. Stunde\n",
    "neue Inhalte vermittelt und die 3. Stunde dient dazu, dass Studierende mit der Lösung des neuen Aufgabenblattes bginnen und dabei\n",
    "Unklarheiten oder andere Schwierigkeiten an die anwesenden HiWis stellen können.\n",
    "\n",
    "\n",
    "## Literaturempfehlungen\n",
    "\n",
    "Die kostenlosen Online-Kurse [W3](https://www.w3schools.com/python/) und [InventWithPython](https://inventwithpython.com) bieten einen guten allgemeinen Überblick über die Programmiersprache Python.\n",
    "Speziell auf die wissenschaftliche Anwendung spezialisiert ist das Handbuch von Christian Hill sehr zu empfehlen {cite:p}`Hill2015`.\n",
    "Aufgrund der Popularität von Python finden Sie aber auch für alle erdenklichen Probleme jederzeit Hilfe mit einer kurzen Google-Suche oder einer Frage an [ChatGPT](https://chat.openai.com).\n"
   ]
  },
  {
   "attachments": {},
   "cell_type": "markdown",
   "metadata": {},
   "source": [
    "## Installation von Python\n",
    "\n",
    "Sie benötigen zur Bearbeitung der Übungsaufgaben eine funktionierende Installation von Python3 inklusive einigen Zusatzpaketen für die wissenschaftliche Datenverarbeitung.\n",
    "Wir empfehlen Ihnen hierfür die Installation der Scientific Python Distribution [Anaconda](https://www.anaconda.com/download).\n",
    "Laden Sie die entsprechende Version für Ihr System herunter und installieren Sie sie.\n",
    "In Anaconda ist bereits alles enthalten, was Sie für diesen Kurs brauchen (und noch viel mehr).\n",
    "\n",
    "\n",
    "## Inhaltsverzeichnis\n",
    "\n",
    "```{tableofcontents}\n",
    "```\n",
    "\n",
    "```{bibliography}\n",
    ":style: unsrt\n",
    "```\n",
    "\n"
   ]
  },
  {
   "cell_type": "code",
   "execution_count": null,
   "metadata": {},
   "outputs": [],
   "source": []
  }
 ],
 "metadata": {
  "kernelspec": {
   "display_name": "Python 3",
   "language": "python",
   "name": "python3"
  },
  "language_info": {
   "codemirror_mode": {
    "name": "ipython",
    "version": 3
   },
   "file_extension": ".py",
   "mimetype": "text/x-python",
   "name": "python",
   "nbconvert_exporter": "python",
   "pygments_lexer": "ipython3",
   "version": "3.10.6"
  },
  "orig_nbformat": 4
 },
 "nbformat": 4,
 "nbformat_minor": 2
}
