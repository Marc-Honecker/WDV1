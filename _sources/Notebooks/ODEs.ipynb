{
 "cells": [
  {
   "attachments": {},
   "cell_type": "markdown",
   "metadata": {},
   "source": [
    "# Gewöhnliche Differential Gleichungen\n",
    "\n",
    "Zum Lösen gewöhnlicher DGLs werden wir den [Verlet-Algorithmus](https://en.wikipedia.org/wiki/Verlet_integration)\n",
    "benutzen. Dieser wurde, wie der Name bereits vermuten lässt, von Jean Baptiste Joseph Delambre Ende\n",
    "des 18. Jahrhunderts entwickelt. Später wurde er dann unabhängig mehrfach von anderen Wissenschaftlern\n",
    "entwickelt, unter anderem auch dem Namensgeber Loup Verlet in den 1960er Jahren. Dieser Algorithmus\n",
    "löst DGLs 2. Ordnung."
   ]
  },
  {
   "attachments": {},
   "cell_type": "markdown",
   "metadata": {},
   "source": [
    "## Herleitung\n",
    "\n",
    "Stellen wir uns vor, wir möchten den Weg/Flugbahn eines Köpers anhand seiner Position, \n",
    "Beschleunigung und seiner Beschleunigungsänderung berechnen. Schauen wir uns die Taylor-Entwicklung\n",
    "dritten Grades über $t$ dafür an:\n",
    "\n",
    "$$\n",
    "x(t+\\Delta t) = x(t) + v(t)\\cdot\\Delta t + \\frac{a(t)\\cdot\\Delta t^2}{2} + \\frac{\\dot a(t)\\cdot t^3}{6} + O(t^4)\n",
    "$$\n",
    "\n",
    "Mit dieser Formel erhalten wir offensichtlich einen Fehler der Größenordnung $O(t^4)$. Der einzige Haken\n",
    "hierbei ist aber, dass wir $v(t)$ und $\\dot a(t)$ brauchen, was nach unserer Annahme nicht gegeben ist.\n",
    "Was aber bei einem solche iterativen Algorithmus aber immer gegeben ist, ist die Position **vor** der\n",
    "momentanen Position, also $x(t-\\Delta t)$. Schauen wir uns die entsprechende Taylor Entwicklung hierzu\n",
    "an:\n",
    "\n",
    "$$\n",
    "x(t-\\Delta t) = x(t) - v(t)\\cdot\\Delta t + \\frac{a(t)\\cdot\\Delta t^2}{2} - \\frac{\\dot a(t)\\cdot t^3}{6} + O(t^4)\n",
    "$$\n",
    "\n",
    "Addieren wir nun unsere beiden Ergbnisse auf, so erhalten wir:\n",
    "\n",
    "$$\n",
    "x(t-\\Delta t) + x(t+\\Delta t) = 2x(t) + a(t)\\Delta t^2 + O(t^4)\n",
    "$$\n",
    "\n",
    "Dies können wir noch umschreiben zu:\n",
    "\n",
    "$$\n",
    "x(t+\\Delta t) = 2x(t) - x(t-\\Delta t) + a(t)\\Delta t^2 + O(t^4)\n",
    "$$"
   ]
  },
  {
   "attachments": {},
   "cell_type": "markdown",
   "metadata": {},
   "source": [
    "Damit haben wir den Verlet-Algorithmus hergeleitet! In Pseudo-Code sieht dies wie folgt aus:\n",
    "\n",
    "```{prf:algorithm} Verlet-Algorithmus\n",
    ":class: text\n",
    ":label: Verlet\n",
    "\n",
    "**Eingabe:** $\\Delta t, x(0), x(\\Delta t)$ und $a(\\Delta t)$ sowie ein Endpunkt $t_{Ende}$\n",
    "\n",
    "**Ausgabe:** Sequenz der berechneten $x(t)$ Werte\n",
    "\n",
    "1. Initialisiere Liste $x_{vals}$\n",
    "2. Setze:\n",
    "    - $x_{vor}$ auf $x(0)$\n",
    "    - $x_{jetzt}$ auf $x(\\Delta t)$\n",
    "    - $a$ auf $a(\\Delta t)$\n",
    "    - $t$ auf $\\Delta t$\n",
    "    - $dt_{squared}$ auf $\\Delta t^2$\n",
    "3. Solange t $\\ne$ t_{Ende}:\n",
    "\n",
    "    4. $x_{vals}(t) \\leftarrow$ $2 \\cdot x_{jetzt} - x_{vor} + a\\cdot dt_{squared}$\n",
    "    5. $x_{vor} \\leftarrow x_{jetzt}$\n",
    "    6. $x_{jetzt} \\leftarrow x_{vals}(t)$\n",
    "    7. $t \\leftarrow t + \\Delta t$\n",
    "\n",
    "8. Gib $x_{vals}$ zurück\n",
    "```"
   ]
  },
  {
   "attachments": {},
   "cell_type": "markdown",
   "metadata": {},
   "source": [
    "Hieraus lässt sich selbstverständlich auch ganz einfach der dazugehörige Python-Code schreiben. Dies wird aber in diesem\n",
    "Fall Ihnen überlassen. Damit ist auch das Kapitel über DGLs abegeschlossen."
   ]
  },
  {
   "cell_type": "code",
   "execution_count": null,
   "metadata": {},
   "outputs": [],
   "source": []
  }
 ],
 "metadata": {
  "kernelspec": {
   "display_name": "Python 3",
   "language": "python",
   "name": "python3"
  },
  "language_info": {
   "name": "python",
   "version": "3.10.6"
  },
  "orig_nbformat": 4
 },
 "nbformat": 4,
 "nbformat_minor": 2
}
