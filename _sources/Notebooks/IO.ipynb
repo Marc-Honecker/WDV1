{
 "cells": [
  {
   "attachments": {},
   "cell_type": "markdown",
   "metadata": {},
   "source": [
    "# Lesen und Schreiben von Dateien\n",
    "\n",
    "\n",
    "Unabhängig davon, ob es um wissenschaftliche Berechnungen geht oder nicht, ist das Lesen und Schreiben von Dateien eine der häufigsten Aufgaben von Computeranwendungen, weshalb Ihnen der Inhalt dieses Kapitels nicht ganz unbekannt sein wird.\n",
    "Da die Datei- und Ordnerstruktur des Computers in modernen Anwendungen allerdings zunehmend verschleiert wird, soll dieses Kapitel Sie in die Lage versetzen auch ohne eine graphische Benutzeroberfläche (engl. Graphical User Interface = GUI) auf Dateien zugreifen zu können.\n",
    "\n",
    "Wenn Sie eine Datei mit einem Programm lesen, wird der benötigte Inhalt der Datei zunächst in den Hauptspeicher (engl. Random Access Memory = RAM) kopiert, um mit den enthaltenen Daten arbeiten zu können. \n",
    "Das Programm selbst nutzt für seine Berechnungen nur den RAM. Da jegliche Information im RAM nach Beendigung des Programms verloren gehen würden, müssen Sie zuvor üblicherweise die wichtigsten Ergebnisse noch einmal in eine Datei auf der Festplatte schreiben, wo Informationen permanent gespeichert bleiben. \n",
    "Deshalb sollten Sie sich in der Programmiersprache Ihrer Wahl von Anfang an sowohl mit dem Lesen als auch mit dem Schreiben von Dateien vertraut machen."
   ]
  },
  {
   "attachments": {},
   "cell_type": "markdown",
   "metadata": {},
   "source": [
    "`````{admonition} Datenaustausch zwischen Festplatte, Arbeitsspeicher und Prozessor\n",
    ":class: tip, dropdown\n",
    "\n",
    "In diesem Kurs wird es keine Programme geben, bei denen es nötig ist die nachfolgenden Details explizit zu implementieren. \n",
    "Da wir mit sogenannten höheren Programmiersprachen arbeiten, übernimmt diese Aufgabe der Interpreter (bzw. Compiler) für uns.\n",
    "Dennoch ist der ein oder andere Leser vielleicht interessiert an einem kleinen Einblick in die Hardware von Computern, mit der sich fortgeschrittene Programmierer öfters auseinandersetzen müssen.\n",
    "\n",
    "Mit dem Begriff \"Datei\" bezeichnet man üblicherweise einen Datensatz, der auf der Festplatte (Sammelbegriff für Hard Disk Drive = HDD und Solid State Drive = SSD) gespeichert ist, wo Informationen permanent aufbewahrt werden können, ohne dass dafür Energie benötigt wird.\n",
    "Um die enthaltenen Informationen verwenden zu können, muss ein Computerprogramm sie allerdings zunächst von der Festplatte in den sog. Arbeitsspeicher (Random Access Memory = RAM) laden, welcher sehr viel schneller reagiert als die Festplatte, dafür aber permanent Energie verbraucht und jegliche Information \"vergisst\" sobald die Energiezufuhr unterbrochen wird.\n",
    "Bei maschinennahen Programmiersprachen werden Informationen oft explizit über ihre Adresse im RAM abgerufen und bei Performance-kritischen Algorithmen spielt durchaus die Anordnung (engl. Alignment) von Daten im Arbeitsspeicher eine Rolle.\n",
    "\n",
    "Genau genommen lädt der Prozessor (Central Processing Unit = CPU) die Daten aus dem RAM noch einmal in den sogenannten Cache um damit zu arbeiten, wobei es verschiedene Levels von Cache gibt, welche entweder individuellen CPU-Kernen (Cores) gehören oder von mehreren Kernen gemeinsam genutzt werden.\n",
    "Cache-Levels sind für einen Programmierer gegebenenfalls relevant, wenn er parallelisierte Software entwickelt, also Software, die mehrere CPU-Kerne gleichzeitig nutzt, deren Aufgaben synchronisiert werden müssen. \n",
    "\n",
    "Die CPU stellt so etwas wie das Gehirn des Computers dar und kann eine enorme Vielfalt an komplexen Operationen ausführen. \n",
    "Für besonders rechenintensive Aufgaben ist es möglich stattdessen einen auf bestimmte Operationen spezialisierten Prozessor zu verwenden. \n",
    "Das bekannteste Beispiel hierfür ist ein auf (stark parallelisierte) Mathematik spezialisierter Grafik-Prozessor (Graphics Processing Unit = GPU), welcher wiederum seinen eigenen Video-RAM (VRAM) benötigt, mit dem die Festplatte Daten austauschen muss. \n",
    "GPUs sind besonders schnell und effizient in der Ausführung von linearer Algebra, welche nicht nur (wie der Name \"GPU\" suggeriert) in Grafik-Anwendungen allgegenwärtig ist, sondern auch bei wissenschaftlichen Berechnungen und z.B. Machine Learning.\n",
    "In den letzten Jahren wurden gerade für Mobilgeräte weitere spezialisierte Prozessortypen entwickelt (z.B. Apple's Neural Engine oder Google's Tensor Chips), welche uns im Bereich der Wissenschaft allerdings kaum interessieren müssen.\n",
    "`````"
   ]
  },
  {
   "attachments": {},
   "cell_type": "markdown",
   "metadata": {},
   "source": [
    "## Pfade\n",
    "\n",
    "Unabhängig vom Betriebssystem (Windows, MacOS, Linux, ...) hat jeder Computer ein zugrundeliegendes Dateisystem, das dem Anwender ermöglicht seine Dateien in Ordnerstrukturen zu organisieren. \n",
    "Da man beliebig viele Stufen an Unterordnern anlegen kann, ergibt sich eine Hierarchie, welche man (zumindest graphisch) \"von Oben nach Unten\" durchlaufen kann. \n",
    "Eine hypothetische Ordnerstruktur könnte wie folgt aussehen:\n",
    "\n",
    "```{figure} ../Bilder/Datei_System.png\n",
    ":name: Datei-System\n",
    "\n",
    "Ein Beispiel einer kleinen Ordner-Hierarchie\n",
    "```\n",
    "\n",
    "Der **Pfad** zu einer Datei entspricht dabei genau dem Pfad im obigen Diagramm, dem man folgen muss um zur Datei zu gelangen.\n",
    "Hierbei (und auch in unseren Programmen) ist zu unterscheiden zwischen **absoluten** und **relativen** Pfaden."
   ]
  },
  {
   "attachments": {},
   "cell_type": "markdown",
   "metadata": {},
   "source": [
    "### Absolute Pfade\n",
    "\n",
    "Bei diesen Pfaden gibt man den kompletten Weg an vom \"Anfangspunkt\" der Hierarchie bis zum Ziel. \n",
    "Schauen wir uns ein Beispiel an:\n",
    "\n",
    "Angegnommen, unser gesamtes Dateisystem besteht aus der Hierarchie von [oben](Datei-System), sodass `Ordner A` den Anfangspunkt des Dateisystems darstellt. \n",
    "Der absolute Pfad zu `Ordner D` lautet dann wie folgt:\n",
    "\n",
    "`Ordner A/Ordner B/Ordner D`,\n",
    "\n",
    "wobei die `/`-Zeichen lediglich als Trennzeichen stellvertretend für die Pfeile in der Grafik stehen. \n",
    "\n",
    "Falls wir aber nun annehmen, dass wir uns bereits in `Ordner B` befinden, sollte es direkt als unnötig erscheinen den **gesamten** Pfad von `Ordner D` anzugeben, obwohl wir nur einen einzigen Schritt vom Ziel entfernt starten.\n",
    "Eine Lösung für dieses Problem bieten **relative Pfade**. \n",
    "\n",
    "``````{admonition} Hinweis für Windows-Nutzer\n",
    ":class: tip\n",
    "\n",
    "Es gilt zu beachten, dass leider nicht alle Betriebssysteme das `/`-Zeichen zur Trennung von Pfaden verwenden.\n",
    "Während wir hier der Konvention von MacOS uns Linux folgen, nutzt Windows stattdessen den umgekehrten Trennstrich '``\\``'.\n",
    "Diese Diskrepanz sollte den Windows-Nutzern immer im Hinterkopf bleiben, wenn sie die Beispiele in diesem Skript nachvollziehen wollen. \n",
    "\n",
    "``````"
   ]
  },
  {
   "attachments": {},
   "cell_type": "markdown",
   "metadata": {},
   "source": [
    "### Relative Pfade\n",
    "\n",
    "Nehmen wir wieder an, dass wir uns in `Ordner B` befinden und wir den Pfad von `Ordner D` angeben wollen. \n",
    "Sehen wir uns den folgenden (wohl definierten) Pfad an:\n",
    "\n",
    "`./Ordner D`\n",
    "\n",
    "Zunächst fällt auf, dass dieser Pfad wesentlich kürzer ist als der vorherige. \n",
    "Dies liegt an dem neuen Element in dem Pfad, nämlich `.`. \n",
    "Dieser einfache Punkt steht selbst für einen Pfad, nämlich den Pfad zu dem Ordner, in dem wir uns gerade befinden (`Ordner B`).\n",
    "Sie können sich einen relativen Pfad auch wie einen absoluten Pfad vorstellen, bei dem sie den Anfangspunkt der Hierarchie umdefiniert haben. \n",
    "Umgekehrt betrachtet ist ein absoluter Pfad nichts anderes als ein Pfad relativ zum obersten Ordner der kompletten Hierarchie auf ihrer Festplatte.\n",
    "\n",
    "Betrachen wir jetzt einmal den umgekehrten Fall: Wir befinden uns in `Ordner D` und möchten zurück in `Ordner B`. \n",
    "Dies ist mit einem relativen Pfad sogar noch einfacher zu realisieren als das vorherige Beispiel, denn \n",
    "\n",
    "`..` \n",
    "\n",
    "reicht dafür völlig aus. \n",
    "`..` ist eine Abkürzung für den Ordner, der sich in der Hierarchie unmittelbar über dem aktuellen Ordner befindet (im Englischen spricht man auch vom **parent directory** des aktuellen Ordners).\n",
    "\n",
    "``````{admonition} Die Pfade . und ..\n",
    ":class: tip\n",
    "Hier schauen wir uns diese beiden besonderen \"Pfade\" etwas genauer an, um besser zu verstehen, wie man sie einsetzen kann\n",
    "und wie sie (viel) Arbeit abnehmen können.\n",
    "`````{tab-set}\n",
    "````{tab-item} Der Pfad .\n",
    "Dieser \"Pfad\" ist kein Pfad im klassischen Sinn. Es viel mehr ein Programm (mit einem etwas seltsamen Namen), welches\n",
    "immer den **momentanen absoluten Pfad** zurück gibt. Man sieht also, dass `.` in `./Ordner D` also einfach nur den \n",
    "restlichen Pfad einblendet.\n",
    "````\n",
    "````{tab-item} Der Pfad ..\n",
    "Dieser \"Pfad\" verhält sich im Wesentlichen ähnlich wie der Vorherige. Nur dieser gibt den Pfad des Eltern-Ordners (engl.\n",
    "parent directory) zurück (was man von dem Beispiel auch schon vermuten konnte).\n",
    "````\n",
    "`````\n",
    "``````"
   ]
  },
  {
   "attachments": {},
   "cell_type": "markdown",
   "metadata": {},
   "source": [
    "## Strings in Python\n",
    "\n",
    "Wir haben bereits in den ersten Beispielen mehrfach mit Strings gearbeitet, ohne sie genauer unter die Lupe zu nehmen.\n",
    "Da wir beim Austausch von Informationen zwischen Anwender, Programm und Datei allerdings unweigerlich mit Text-Variablen arbeiten, werden wir das an dieser Stelle nachholen.\n",
    "\n",
    "Strings können entweder mit einfachen (`'a'`) oder doppelten (`\"a\"`) Anführungszeichen gekennzeichnet werden und repräsentieren im übertragenen Sinne nichts anderes als Text. \n",
    "Etwas genauer ist es Strings als Behälter von \"Zeichen\" zu bezeichnen (engl. container of characters).\n",
    "Welche Zeichen in einem String vorkommen können hängt vom verwendeten Zeichensatz ab.\n",
    "Voreingestellt ist bei herkömmlichen Strings der Standard [UTF-8](https://www.fileformat.info/info/charset/UTF-8/list.htm). \n",
    "Vereinfacht kann man diesen Zeichensatz zusammenfassen als:\n",
    "* druckbare Zeichen (engl. printable characters): Diese erreichen Sie auf der Tastatur mit einem einzigen Tastendruck (inklusive Umschalt-Taste)\n",
    "  - alle lateinischen Buchstaben (`a-z`, `A-Z`)\n",
    "  - Gängige Umlaute (z.B. `öäüßÖÄÜ` und noch sehr viel mehr)\n",
    "  - übliche Satzzeichen (z.B. `.,-+#^°!\"§$%&/=?;:_()[]{}<>`)\n",
    "  - das Leerzeichen\n",
    "  - den Backslash ``\\``, den Sie innerhalb eines Strings als ``\\\\`` tippen müssen, da der einzelne Backslash als **escape character** dient.\n",
    "* nicht-druckbare Zeichen (engl. non-printable characters): Diese werden eingeleitet durch den sogenannten **escape charcter** ``\\``.\n",
    "  - Der Tabulator (engl. tab) `\\t`, der einen **Whitespace** mit variabler Breite erzeugt\n",
    "  - Der new-line character `\\n`, der einen Zeilenumbruch erzeugt\n",
    "  - einige weitere, die Sie nicht unbedingt benötigen\n",
    "\n",
    "Die Besondere Rolle des Backslash verdeutlichen wir am besten mit einem Beispiel. \n",
    "Wenn Sie in einem String mehrere Backslashes einbauen wollen, können sie das Escape-Verhalten auch abschalten, indem Sie einen **raw string** verwenden.\n",
    "Diesen definieren Sie, indem Sie vor dem ersten Anführungszeichen ein `r` hinzufügen."
   ]
  },
  {
   "cell_type": "code",
   "execution_count": 1,
   "metadata": {},
   "outputs": [
    {
     "name": "stdout",
     "output_type": "stream",
     "text": [
      "a\tb\n",
      "c\n",
      "a\\tb\\nc\n",
      "a\\tb\\nc\n"
     ]
    }
   ],
   "source": [
    "print(\"a\\tb\\nc\")\n",
    "print(\"a\\\\tb\\\\nc\")\n",
    "print(r\"a\\tb\\nc\")"
   ]
  },
  {
   "attachments": {},
   "cell_type": "markdown",
   "metadata": {},
   "source": [
    "Da Strings Container sind, können wir ihre Elemente sowohl indizieren als auch über sie in einer Schleife iterieren:"
   ]
  },
  {
   "cell_type": "code",
   "execution_count": 2,
   "metadata": {},
   "outputs": [
    {
     "name": "stdout",
     "output_type": "stream",
     "text": [
      "a\n",
      "yes\n",
      "a\n",
      "b\n",
      "c\n"
     ]
    }
   ],
   "source": [
    "s = \"abc\"\n",
    "\n",
    "print(s[0])\n",
    "\n",
    "if \"a\" in s:\n",
    "    print(\"yes\")\n",
    "\n",
    "for c in s:\n",
    "    print(c)"
   ]
  },
  {
   "attachments": {},
   "cell_type": "markdown",
   "metadata": {},
   "source": [
    "Als nächstes schauen wir uns an, wie wir Python-Variablen, die keine Strings sind, am besten zu Strings konvertieren um sie z.B. in Dateien zu schreiben.\n",
    "Zum einen kann man hierfür die Funktion `str()` nehmen, die für die meisten Objekte eine Voreinstellung hat.\n",
    "Sie haben bereits die `print()`-Funktion kennengelernt, die genau diese Umwandlung automatisch ausführt.\n",
    "Falls wir genauere Kontrolle wollen, können wir sogenannte **format strings** verwenden.\n",
    "Ein **format string** wird ähnlich wie ein raw string definiert indem man dem ersten `\"` oder `'` ein `f` voranstellt.\n",
    "Innerhalb eines solchen Strings hat man die Möglichkeit Variablen aus dem vorangegangenen Code in geschweiften Klammern `{}` zu verwenden, die an der betreffenden Stelle in den String eingebaut werden. \n",
    "Bei Zahlen kann man zusätzlich in den Klammern hinter einem `:` das Format in der Form `k.jm` angeben, wobei\n",
    "1. `m`: z.B. `e` oder `E` um wissenschaftliche Notation zu erzwingen, `f` um sie zu vermeiden oder `g` für automatische Formatierung. Außerdem gibt es `i` für ganze Zahlen (engl. integer).\n",
    "2. `i`: Anzahl an Zeichen, die der String mindestens einnehmen soll (bei kurzen Zahlen wird der Rest des Strings von vorne mit Leerzeichen aufgefüllt). Bei Verwendung dieser Option ist ein häufiger Anfängerfehler eventuelle Minuszeichen nicht mit einzurechnen.\n",
    "3. `j`: Anzahl an Nachkommastellen, die berücksichtigt werden sollen (bei langen Zahlen wird gerundet). Bei den Modi `e` und `E` bezieht sich das auf den Koeffizient vor der Potenz, beim Modus `g` steht `j` stattdessen für die Anzahl an signifikanten Stellen (also hat der String bis zu `j-1` Nachkommastellen).\n",
    "\n",
    "Wir zeigen die verschiedenen Optionen am Beispiel der Zahl $\\pi$, die bekanntlich unendlich viele Nachkommastellen hat:"
   ]
  },
  {
   "cell_type": "code",
   "execution_count": 3,
   "metadata": {},
   "outputs": [
    {
     "name": "stdout",
     "output_type": "stream",
     "text": [
      "3.141592653589793\n",
      "3.141592653589793\n",
      "3.141592653589793\n",
      "---3.14159--- (g)\n",
      "---3.141593--- (f)\n",
      "---    3.14--- (8.2f)\n",
      "---3.141593E+00--- (E)\n",
      "--- 3.14159e+00--- (12.5e)\n",
      "---0.00000--- (.5f)\n",
      "---3.14159e-06--- (.5e)\n",
      "---3.1416e-06--- (.5g)\n"
     ]
    }
   ],
   "source": [
    "from math import pi\n",
    "\n",
    "# Die Voreinstellung nimmt meist unnötig viele Nachkommastellen mit\n",
    "print(pi)\n",
    "print(str(pi))\n",
    "print(f\"{pi}\")\n",
    "\n",
    "# Um die Unterschiede offensichtlich zu machen, begrenzen wir den Zahlen-String mit Strichen\n",
    "print(f\"---{pi:g}--- (g)\")\n",
    "print(f\"---{pi:f}--- (f)\")\n",
    "print(f\"---{pi:8.2f}--- (8.2f)\")\n",
    "print(f\"---{pi:E}--- (E)\")\n",
    "print(f\"---{pi:12.5e}--- (12.5e)\")\n",
    "\n",
    "# scientific notation macht vor allem Sinn bei Zahlen, die mehrere Größenordnungen von 1 verschieden sind:\n",
    "print(f\"---{pi/1000000:.5f}--- (.5f)\")\n",
    "print(f\"---{pi/1000000:.5e}--- (.5e)\")\n",
    "\n",
    "# Im Zweifelsfall nutzen Sie 'g'. Beachten Sie, dass '.5g' nur 4 Nachkommastellen zeigt:\n",
    "print(f\"---{pi/1000000:.5g}--- (.5g)\")"
   ]
  },
  {
   "attachments": {},
   "cell_type": "markdown",
   "metadata": {},
   "source": [
    "Abschließend an dieser Stelle noch erwähnt, dass Python eine unvorstellbare Auswahl an Möglichkeiten bietet Strings zu manipulieren.\n",
    "Tatsächlich ist neben der Arbeit mit wissenschaftlichen Daten die Arbeit mit Strings eine der größten Stärken der Programmiersprache.\n",
    "Ein paar Beispiele seien hier exemplarisch aufgelistet ohne sie im Detail zu erläutern.\n",
    "In den meisten Fällen sollte der Code selbsterklärend sein."
   ]
  },
  {
   "cell_type": "code",
   "execution_count": 4,
   "metadata": {},
   "outputs": [
    {
     "name": "stdout",
     "output_type": "stream",
     "text": [
      "WARNING: There is a bracket mismatch!\n",
      "\\Frac{\\sin(x)}{2}\n",
      "\\Frac{\\cos(x)}{2}\n",
      "\\frac{\\cos(x)}{2}\n",
      "True\n"
     ]
    }
   ],
   "source": [
    "# String, der eine mathematische Formel in LaTeX-Syntax darstellen soll\n",
    "equation = r\"\\Frac{\\sin(x)}{2}}\"\n",
    "\n",
    "# Prüfen, ob in der Gleichung alle geöffneten geschweiften Klammern auch wieder geschlossen wurden\n",
    "if equation.count(\"{\") != equation.count(\"}\"): \n",
    "    print(\"WARNING: There is a bracket mismatch!\")\n",
    "\n",
    "# Alle Zeichen behalten außer dem letzten (womit wir hier den bracket mismatch beheben)\n",
    "equation = equation[:-1]\n",
    "print(equation)\n",
    "\n",
    "# die Zeichenfolge '\\sin' durch '\\cos' ersetzen\n",
    "equation = equation.replace(r\"\\sin\", r\"\\cos\")\n",
    "print(equation)\n",
    "\n",
    "# alle Großbuchstaben durch Kleinbuchstaben ersetzen\n",
    "equation = equation.lower()\n",
    "print(equation)\n",
    "\n",
    "# Prüfen, ob der String ausschließlich Zeichen des ASCII-Zeichensatzes enthält\n",
    "print(equation.isascii())"
   ]
  },
  {
   "attachments": {},
   "cell_type": "markdown",
   "metadata": {},
   "source": [
    "##  Allgemeines Lesen und Schreiben von Dateien\n",
    "\n",
    "Die Python-eigene Syntax zum Öffnen einer Datei besteht aus der Funftion `open()`, die als Argument den Dateinamen und die Art des Zugriffs nimmt. \n",
    "Die gängigsten Arten des Zugriffs sind:\n",
    "\n",
    "* lesen (engl. read): `\"r\"`\n",
    "* überschreiben (engl. write): `\"w\"`\n",
    "* anhängen (eng. append): `\"a\"`\n",
    "\n",
    "Dabei ist zu beachten, dass der Modus `\"w\"` eine bereits vorhandene Datei immer komplett überschreibt!\n",
    "Dies ist in vielen Programmiersprachen die Voreinstellung des Schreibens, was Anfänger oftmals in die Falle tappen lässt.\n",
    "Um nach dem Ende des bestehenden Inhalts einer Datei weiterzuschreiben, braucht man den Modus `\"a\"`.\n",
    "\n",
    "Schauen wir uns dazu ein ähnliches Beispiel an wie die Studentenliste im vorherigen Kapitel:"
   ]
  },
  {
   "cell_type": "code",
   "execution_count": 5,
   "metadata": {},
   "outputs": [],
   "source": [
    "# Wir merken uns welche Studenten anwesend sind und welche nicht\n",
    "student_list = [\"Tom\", \"Anna\", \"Peter\", \"Julia\"]\n",
    "presence = {\"Tom\": \"anwesend\", \n",
    "            \"Anna\": \"anwesend\", \n",
    "            \"Peter\": \"abwesend\", \n",
    "            \"Julia\": \"anwesend\"}\n",
    "\n",
    "# Wir schreiben diese Information in eine Datei\n",
    "file = open(\"../Data/students.txt\", \"w\")\n",
    "for student in student_list:\n",
    "    file.write(f\"{student}\\t{presence[student]}\\n\")\n",
    "file.close()\n"
   ]
  },
  {
   "attachments": {},
   "cell_type": "markdown",
   "metadata": {},
   "source": [
    "Wir bemerken, dass es für Dateien in Python einen eigenen Datentyp gibt.\n",
    "Die Funktion `open` gibt uns ein solches Datei-Objekt zurück, in welches wir mit der zugehörigen Funktion `write()` einen String schreiben können.\n",
    "Nachdem das Schreiben in die Datei abgeschlossen ist, sollte man sie stets mit dem Aufruf der `close()`-Funktion schließen.\n",
    "\n",
    "Wir haben in diesem Beispiel noch zusätzlich die Gelegenheit genutzt einen neuen Datentyp einzuführen, nämlich das **Dictionary** `presence`.\n",
    "Dictionaries gehören genauso wie **Listen** zu den Containern, können also mehrere Einträge enthalten.\n",
    "Anders als bei Listen sind die Einträge von Dictionaries aber immer Wertepaare in Form eines **key**s (hier: Name) und eines **value**s (hier: Anwesenheit), welche bei der Definition des Dictionaries durch einen `:` getrennt werden."
   ]
  },
  {
   "attachments": {},
   "cell_type": "markdown",
   "metadata": {},
   "source": [
    "Wir wollen die zuvor erstellte Datei nun einlesen:"
   ]
  },
  {
   "cell_type": "code",
   "execution_count": 6,
   "metadata": {},
   "outputs": [
    {
     "name": "stdout",
     "output_type": "stream",
     "text": [
      "['Tom', 'Anna', 'Julia']\n"
     ]
    }
   ],
   "source": [
    "# Wir lesen nur die Namen der anwesenden Studenten aus der Datei wieder ein \n",
    "present_students = []\n",
    "with open(\"../Data/students.txt\", \"r\") as file:\n",
    "    for line in file.readlines():\n",
    "        student, status = line.strip().split(\"\\t\")\n",
    "        if status==\"anwesend\": present_students.append(student)\n",
    "\n",
    "print(present_students)"
   ]
  },
  {
   "attachments": {},
   "cell_type": "markdown",
   "metadata": {},
   "source": [
    "Da es in manchen Fällen sehr wichtig und leicht zu vergessen ist eine Datei nach dem Zugriff wieder zu schließen, ist es empfehlenswert auf Dateien in einem `with`-Block zuzugreifen, welcher garantiert, dass die Datei wieder geschlossen wird, selbst wenn es innerhalb des Blocks zu einem Fehler kommt oder das Programm aus anderen Gründen unerwartet beendet wird.\n",
    "Außerdem ist es in den meisten Fällen so, dass man Dateien Zeile für Zeile lesen möchte, was sich am einfachsten mit `readlines()` realisieren lässt.\n",
    "`file.readlines()` gibt einfach eine Liste zurück, die alle Zeilen der Datei `files` als Strings enthält.\n",
    "Wir nutzen außerdem die Funktion `strip()` um das `\\n` am Ende der Zeile abzuschneiden und `split(\"\\t\")` um den String in eine Liste von Substrings zu teilen, wobei er an allen Stellen getrennt wird, an denen er ein `\\t` enthält."
   ]
  },
  {
   "attachments": {},
   "cell_type": "markdown",
   "metadata": {},
   "source": [
    "## Lesen und Schreiben von numerischen Daten\n",
    "\n",
    "Das Einlesen von Dateien ist etwas derart alltägliches, dass viele *Bibliotheken* ihre eigene Funktionalität zum Einlesen von Dateien bereitstellen. \n",
    "Bibliotheken sind im Allgemeinen Sammlungen von Funktionen, welche man in Programmen nutzen kann. \n",
    "Um eine solche Bibliothek dem Python-Code bekannt zu machen, gibt es den Befehl `import <Bibliotheken-Name>`, wobei Sie der Bibliothek im Kontext ihres Codes auch einen eigenen (kürzeren) Namen geben können. \n",
    "\n",
    "Für Wissenschaftler ist die mit Abstand wichtigste Bibliothek des kompletten Python-Universums [numpy](https://numpy.org/), was für \"numeric Python\" steht.\n",
    "Mit der Einführung dieser Bibliothek fangen unsere Beispiele nun auch endlich an für unsere Fachrichtung relevant zu werden.\n",
    "Als erstes lesen und schreiben wir Matrizen mit Hilfe der Funktionen [loadtxt](https://numpy.org/doc/stable/reference/generated/numpy.loadtxt.html) und [savetxt](https://numpy.org/doc/stable/reference/generated/numpy.savetxt.html)."
   ]
  },
  {
   "cell_type": "code",
   "execution_count": 7,
   "metadata": {},
   "outputs": [
    {
     "name": "stdout",
     "output_type": "stream",
     "text": [
      "[[ 1.  2.  3.  4.]\n",
      " [ 5.  6.  7.  8.]\n",
      " [ 9. 10. 11. 12.]]\n"
     ]
    }
   ],
   "source": [
    "# Hier importieren wir numpy und geben ihm den Namen 'np'\n",
    "import numpy as np\n",
    "\n",
    "# Die Funktion np.loadtxt() liest eine Matrix von Zahlen aus einer Datei.\n",
    "mat = np.loadtxt(\"../Data/test_data.csv\", delimiter=\",\")\n",
    "print(mat)"
   ]
  },
  {
   "attachments": {},
   "cell_type": "markdown",
   "metadata": {},
   "source": [
    "``````{admonition} Gängige numerische Dateiformate\n",
    ":class: info\n",
    "\n",
    "`.csv` kommt aus dem Englischen und steht für ***C***omma ***S***eparated ***V***alue. Somit werden die Daten in solchen Dateien einfach durch Kommata getrennt abgespeichert. Eine Erweiterung dessen sind sogenannte `*.dsv*`-Dateien. \n",
    "Dies steht für ***D***elimiter ***S***perated ***V***alue. D.h., dass die Daten in den Dateien auch durch andere Zeichen voneinander getrennt werden können, z.B. *, -, & oder auch beispielsweise &#127822;, &#128021;, oder &#128039;.\n",
    "Auch Whitespaces können dafür genutzt werden. Allerdings ist die Unterscheidung zwischen `.csv` und `.dsv` heute nicht mehr \n",
    "so streng. Deshalb findet sich heute auch in `.csv` Dateien andere Trennzeichen als `,`. Beispielsweise nutzt Excel zum \n",
    "Abespeichern von `.csv` Dateien `;` als Trenner und nicht `,`.\n",
    "``````"
   ]
  },
  {
   "attachments": {},
   "cell_type": "markdown",
   "metadata": {},
   "source": [
    "Nachdem wir die Daten eingelesen haben, können wir sie auch nutzen. Z.B. können wir die Matrix mit einem Vektor multiplizieren.\n",
    "**Achtung**: da der Begriff der Multiplikation bei Matrizen nicht eindeutig ist, gibt es auch in `numpy` verschiedene Optionen.\n",
    "Die naheliegendste Schreibweise `mat * a` steht dabei für die komponentenweise Multiplikation, die hier nicht gemeint ist."
   ]
  },
  {
   "cell_type": "code",
   "execution_count": 8,
   "metadata": {},
   "outputs": [
    {
     "name": "stdout",
     "output_type": "stream",
     "text": [
      "[10. 26. 42.]\n",
      "[10. 26. 42.]\n"
     ]
    }
   ],
   "source": [
    "# Definition eines Vektors\n",
    "a = np.array([1,1,1,1])\n",
    "\n",
    "# die deutsche \"Matrizenmultiplikation\" wird im Englischen auch als 'dot product' bezeichnet. Daher:\n",
    "mat_a = np.dot(mat, a)\n",
    "print(mat_a)\n",
    "\n",
    "# falls Sie mit der Einsteinschen Summenkonvention vertraut sind und Missverständnisse \n",
    "# bei Matrizenrechnung vermeiden wollen, mögen Sie vielleicht diese Funktion mehr:\n",
    "mat_a = np.einsum(\"ij,j -> i\", mat, a)\n",
    "print(mat_a)"
   ]
  },
  {
   "attachments": {},
   "cell_type": "markdown",
   "metadata": {},
   "source": [
    "Angenommen wir möchten den gerade erzeugten Vektor nun in die Datei `test_vector.csv` schreiben. \n",
    "Dies sieht mit `numpy` wie folgt aus:"
   ]
  },
  {
   "cell_type": "code",
   "execution_count": 9,
   "metadata": {},
   "outputs": [],
   "source": [
    "np.savetxt('../Data/test_vector.csv', mat_a, delimiter=',')"
   ]
  },
  {
   "attachments": {},
   "cell_type": "markdown",
   "metadata": {},
   "source": [
    "Damit ist der Vektor in die Datei geschrieben und wir können ihn zu einem späteren Zeitpunkt wieder laden und damit weiterrechenen."
   ]
  },
  {
   "attachments": {},
   "cell_type": "markdown",
   "metadata": {},
   "source": [
    "Die Bibliothek [pandas](https://pandas.pydata.org/) baut auf `numpy` auf und bietet einige Vorteile bei der Verarbeitung von Dateien, die wissenschaftliche Daten enthalten.\n",
    "Das beinhaltet das Lesen, Schreiben, Aufbereiten und Konvertieren der enthaltenen Information.\n",
    "Während `numpy` nur mit Zahlen arbeitet, kann `pandas` beispielsweise problemlos mit Dateien arbeiten, die zusätzlich Namen und Uhrzeiten enthalten. \n",
    "Schauen wir uns also an, wie wir eine Datei in `pandas` öffnen:"
   ]
  },
  {
   "cell_type": "code",
   "execution_count": 10,
   "metadata": {},
   "outputs": [
    {
     "data": {
      "text/html": [
       "<div>\n",
       "<style scoped>\n",
       "    .dataframe tbody tr th:only-of-type {\n",
       "        vertical-align: middle;\n",
       "    }\n",
       "\n",
       "    .dataframe tbody tr th {\n",
       "        vertical-align: top;\n",
       "    }\n",
       "\n",
       "    .dataframe thead th {\n",
       "        text-align: right;\n",
       "    }\n",
       "</style>\n",
       "<table border=\"1\" class=\"dataframe\">\n",
       "  <thead>\n",
       "    <tr style=\"text-align: right;\">\n",
       "      <th></th>\n",
       "      <th>A</th>\n",
       "      <th>B</th>\n",
       "      <th>C</th>\n",
       "      <th>D</th>\n",
       "    </tr>\n",
       "  </thead>\n",
       "  <tbody>\n",
       "    <tr>\n",
       "      <th>0</th>\n",
       "      <td>1</td>\n",
       "      <td>2</td>\n",
       "      <td>3</td>\n",
       "      <td>4</td>\n",
       "    </tr>\n",
       "    <tr>\n",
       "      <th>1</th>\n",
       "      <td>5</td>\n",
       "      <td>6</td>\n",
       "      <td>7</td>\n",
       "      <td>8</td>\n",
       "    </tr>\n",
       "    <tr>\n",
       "      <th>2</th>\n",
       "      <td>9</td>\n",
       "      <td>10</td>\n",
       "      <td>11</td>\n",
       "      <td>12</td>\n",
       "    </tr>\n",
       "  </tbody>\n",
       "</table>\n",
       "</div>"
      ],
      "text/plain": [
       "   A   B   C   D\n",
       "0  1   2   3   4\n",
       "1  5   6   7   8\n",
       "2  9  10  11  12"
      ]
     },
     "execution_count": 10,
     "metadata": {},
     "output_type": "execute_result"
    }
   ],
   "source": [
    "import pandas as pd\n",
    "\n",
    "data = pd.read_csv(\"../Data/test_data_with_header.csv\")\n",
    "data"
   ]
  },
  {
   "attachments": {},
   "cell_type": "markdown",
   "metadata": {},
   "source": [
    "Wir sehen direkt, dass wir eine Tabelle anstelle einer Matrix zurückbekommen. \n",
    "Man mag sich jetzt fragen, warum so etwas praktisch sein kann. \n",
    "Diese Möglichkeit zahlt sich dann aus, wenn wir z.B. Daten haben, die nach bestimmten Kriterien geordnet sind. \n",
    "Beispielsweise könnte in der ersten Spalte die Zeit, in der zweiten der Weg, in der dritten die Geschwindigkeit und in der letzten Spalte die zugehörige Beschleunigung eingetragen sein. \n",
    "In aller Regel ist es dann einfacher sich auf die entsprechenden Namen zu beziehen, anstelle sich die genauen Spaltennummern zu merken. \n",
    "Des Weiteren kann man ein pandas `Dataframe` einfach in ein `numpy array` konvertieren:"
   ]
  },
  {
   "cell_type": "code",
   "execution_count": 11,
   "metadata": {},
   "outputs": [
    {
     "data": {
      "text/plain": [
       "array([[ 1,  2,  3,  4],\n",
       "       [ 5,  6,  7,  8],\n",
       "       [ 9, 10, 11, 12]])"
      ]
     },
     "execution_count": 11,
     "metadata": {},
     "output_type": "execute_result"
    }
   ],
   "source": [
    "np_data = data.to_numpy()\n",
    "np_data"
   ]
  },
  {
   "attachments": {},
   "cell_type": "markdown",
   "metadata": {},
   "source": [
    "Damit kann man dann genauso wie zuvor mit den Daten in numpy arbeiten. \n",
    "Anschließend kann man das numpy array auch wieder zurück in ein `pandas Dataframe` konvertieren."
   ]
  },
  {
   "cell_type": "code",
   "execution_count": 12,
   "metadata": {},
   "outputs": [
    {
     "name": "stdout",
     "output_type": "stream",
     "text": [
      "   0   1   2   3\n",
      "0  1   2   3   4\n",
      "1  5   6   7   8\n",
      "2  9  10  11  12\n"
     ]
    }
   ],
   "source": [
    "df = pd.DataFrame(np_data)\n",
    "print(df)\n",
    "df.to_csv(\"../Data/test_dataframe.csv\")"
   ]
  },
  {
   "attachments": {},
   "cell_type": "markdown",
   "metadata": {},
   "source": [
    "Für rein numerische Daten kann man statt `pandas` einfach `numpy` nutzen.\n",
    "Da wir mit den Daten üblicherweise Berechnungen ausführen wollen, brauchen wir `numpy` ohnehin in nahezu jedem Programm.\n",
    "Wenn Sie allerdings während Ihrer Abschlussarbeit Daten verschiedenen Formats und Ursprungs organisieren, könnte `pandas` einen gewissen Mehrwert liefern."
   ]
  },
  {
   "cell_type": "code",
   "execution_count": null,
   "metadata": {},
   "outputs": [],
   "source": []
  }
 ],
 "metadata": {
  "kernelspec": {
   "display_name": "Python 3",
   "language": "python",
   "name": "python3"
  },
  "language_info": {
   "codemirror_mode": {
    "name": "ipython",
    "version": 3
   },
   "file_extension": ".py",
   "mimetype": "text/x-python",
   "name": "python",
   "nbconvert_exporter": "python",
   "pygments_lexer": "ipython3",
   "version": "3.8.16"
  },
  "orig_nbformat": 4
 },
 "nbformat": 4,
 "nbformat_minor": 2
}
