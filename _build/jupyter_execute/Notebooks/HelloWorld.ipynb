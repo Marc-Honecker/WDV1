{
 "cells": [
  {
   "cell_type": "markdown",
   "metadata": {},
   "source": [
    "# Hello World!\n",
    "\n",
    "Das \"Hello World! - Programm\" ist traditionell das erste Programm, welches man in einer neuen Programmiersprache schreibt.\n",
    "Aber was ist überhaupt das \"Hello World! - Programm\"? Dieses Programm soll tatsächlich nur \"Hello World!\" ausgeben. Das klingt\n",
    "sehr simpel (ist es relativ schnell auch), es hilft aber dennoch sich bereits mit grundsätzlichen Strukturen vertraut zu machen.\n",
    "Deshalb wird dieses besondere Programm auch in diesem Kurs der Startpunkt für Python sein."
   ]
  },
  {
   "cell_type": "code",
   "execution_count": 1,
   "metadata": {},
   "outputs": [
    {
     "name": "stdout",
     "output_type": "stream",
     "text": [
      "Hello World!\n"
     ]
    }
   ],
   "source": [
    "# Hier beginnt das Hello World! - Programm\n",
    "def main():\n",
    "    # wir geben \"Hello World!\" aus\n",
    "    print(\"Hello World!\")\n",
    "\n",
    "# wir starten das Programm\n",
    "main()"
   ]
  },
  {
   "cell_type": "markdown",
   "metadata": {},
   "source": [
    "Diese kleine Programm besteht im wesentlichen aus drei Komponenten.\n",
    "\n",
    "1. Einem **Kommentar:** Hierbei handelt es sich um eine Notiz des Programmieres. Eingeleitet wird dies durch das '#'-Symbol. Alles was hinter diesem Sybmol geschrieben steht, wird komplett bei der Übersetzung des Programms ignoriert.\n",
    "2. Einer **Funktionendefinition:** Damit man Funktionen nutzen kann, muss man diese vorher definieren. Danach kann man diese beliebig oft benutzen. Man muss noch erwähnen, dass das main()-Programm ein besonderes Programm ist. Dieses dient im Allgemeinen als Startpunkt für die Übersetzung. Die Syntax ist hier immer die gleiche. Zuerst das Schlüsselwort `def`, danach der Name der Funktion, gefolgt von einem Doppelpunkt.\n",
    "3. Einem **Funktionenaufruf:** Streng genommen sind hier zwei Aufrufe. Der erste in Zeile 3 und der zweite in Zeile 5. Der Aufruf an print() schreibt den Inhalt (hier: \"Hello World!\") raus. Der Aufruf an main() startet das Programm und gibt dann \"Hello World!\" aus. Außerdem wird dem aufmerksamen Leser aufgefallen sein, dass wir `print()` nicht definiert hatten, obwohl doch eigentlich jede Funktion vorher definert sein müsste. Hier ist es allerdings ein wenig anders. Python liefert direkt die `print()`-Funktion mit aus, und sie damit einfach verfügbar. Es gibt noch weitere solcher Funktionen, die bei gegebener Zeit noch eingeführt werden."
   ]
  },
  {
   "cell_type": "markdown",
   "metadata": {},
   "source": [
    "\n",
    "``````{admonition} Das main()-Programm in Python\n",
    ":class: tip, dropdown\n",
    "Es ist nicht notwendig in Python mit dem main() Programm zu starten. Deshalb wird es bald nicht mehr genutzt werden. Da aber hiermit einfach die Syntax für eine Funktionen-Definition gezeigt werden kann wurde es hier gezeigt. Außerdem wird in den meisten anderen Programmiersprachen das main() Programm als Einstieg verlangt und somit haben Sie ein solches Programm dann schon einmal gesehen. Einige Beispiele wären (nur zur Illustration):\n",
    "\n",
    "`````{tab-set}\n",
    "````{tab-item} C\n",
    "```c\n",
    "# include <stdio.h>\n",
    "\n",
    "int main() {\n",
    "    printf(\"Hello World!\\n\");\n",
    "    return 0;\n",
    "}\n",
    "```\n",
    "````\n",
    "\n",
    "````{tab-item} C++\n",
    "```c++\n",
    "#include <iostream>\n",
    "\n",
    "int main() \n",
    "{\n",
    "    std::cout << \"Hello World!\" << std::endl;\n",
    "    return 0;\n",
    "}\n",
    "```\n",
    "````\n",
    "\n",
    "````{tab-item} Java\n",
    "```java\n",
    "class Main {\n",
    "    public static void main(String[] args) {\n",
    "        System.out.println(\"Hello World!\");\n",
    "    }\n",
    "}\n",
    "```\n",
    "````\n",
    "\n",
    "````{tab-item} Rust\n",
    "```rust\n",
    "fn main() {\n",
    "    println!(\"Hello World!\");\n",
    "```\n",
    "````\n",
    "`````\n",
    "``````"
   ]
  },
  {
   "cell_type": "markdown",
   "metadata": {},
   "source": [
    "## Das Hello World! - Programm Improved\n",
    "\n",
    "Zum Beispiel betrachten wir folgendes Prgramm:"
   ]
  },
  {
   "cell_type": "code",
   "execution_count": 2,
   "metadata": {},
   "outputs": [
    {
     "name": "stdout",
     "output_type": "stream",
     "text": [
      "Hello World!\n",
      "Hello World!\n"
     ]
    }
   ],
   "source": [
    "def main():\n",
    "    print(\"Hello World!\")\n",
    "    print(\"Hello World!\")\n",
    "\n",
    "main()"
   ]
  },
  {
   "cell_type": "markdown",
   "metadata": {},
   "source": [
    "**Wir können auch mehrfach Hello World! ausgeben.**\n",
    "\n",
    "Und sogar noch öfter:"
   ]
  },
  {
   "cell_type": "code",
   "execution_count": 3,
   "metadata": {},
   "outputs": [
    {
     "name": "stdout",
     "output_type": "stream",
     "text": [
      "Hello World!\n",
      "Hello World!\n",
      "Hello World!\n"
     ]
    }
   ],
   "source": [
    "def main():\n",
    "    print(\"Hello World!\")\n",
    "    print(\"Hello World!\")\n",
    "    print(\"Hello World!\")\n",
    "\n",
    "main()"
   ]
  },
  {
   "cell_type": "markdown",
   "metadata": {},
   "source": [
    "Aber auf die Dauer wird dies dann doch ganz schön schreibaufwendig. Aber Python (und alle anderen Programmiersprachen) hält hierfür etwas sehr vereinfachendes bereit: ***Schleifen***"
   ]
  },
  {
   "cell_type": "markdown",
   "metadata": {},
   "source": [
    "### Schleifen (engl. Loops)\n",
    "\n",
    "Also schreiben wir unser letztes Programm ein wenig um."
   ]
  },
  {
   "cell_type": "code",
   "execution_count": 4,
   "metadata": {},
   "outputs": [
    {
     "name": "stdout",
     "output_type": "stream",
     "text": [
      "Hello World!\n",
      "Hello World!\n",
      "Hello World!\n"
     ]
    }
   ],
   "source": [
    "def main():\n",
    "    for i in range(3):\n",
    "        print(\"Hello World!\")\n",
    "\n",
    "main()"
   ]
  },
  {
   "cell_type": "markdown",
   "metadata": {},
   "source": [
    "Dies ist eine sogenannte `for`-Schleife. `for`-Schleifen sind bei weitem die meist genutzten Schleifen in Python. \n",
    "\n",
    "Die Syntax ist im wesentlichen immer die wie oben gezeigt. Die beiden auffälligen Komponenten werden noch hier einzeln erläutert:\n",
    "\n",
    "- `range()`: Diese Funktion gibt eine Reihe oder Folge (engl. range) von (Ganz-)Zahlen zurück. Hierbei gibt es insgsamt drei verschiedene Fälle:\n",
    "    - `range(n)`: Hier wird eine Reihe von Zahlen beginnend bei 0 und endend bei **n-1** (also insgesamt n Zahlen) erzeugt\n",
    "    - `range(a,b)`: Hier wird eine Reihe von Zahlen beginnend bei `a` und endend bei **b-1** erzeugt.\n",
    "    - `range(a,b,inc)`: Hier wird eine Reihe von Zahlen erzeugt, die bei `a` startet, wobei immer um `inc` hochgezählt wird. Wenn das letzte Ergbnis $> b-1$ ist, so wird die letzt mögliche Zahl, für die gilt, dass sie kleiner als `b-1` zurückgegeben. In Code sieht dies vereinfacht wie folgt aus:\n",
    "    \n",
    "```python\n",
    "def my_range(start, end, inc):\n",
    "    # wir müssen uns alle berechneten Zahlen merken. Dies kann man in Python in einer sogenannten \n",
    "    # Liste machen. Später mehr dazu.\n",
    "    range_list = list()\n",
    "    \n",
    "    # while-Schleifen brauchen uns im Moment nicht wirklich zu interessieren. Diese Art Schleife \n",
    "    # führt solange einen bestimmten Programmteil immer und immer wieder aus, bis eine bestimmte \n",
    "    # Bedingung NICHT MEHR erfüllt ist (hier also: sobald start > end ist, brechen wir ab)\n",
    "    while start < end:\n",
    "        range_list.append(start)\n",
    "        start += inc\n",
    "        \n",
    "    # jetzt geben wir die Liste zurück\n",
    "    return range_list\n",
    "```"
   ]
  },
  {
   "cell_type": "markdown",
   "metadata": {},
   "source": [
    "Die Schleife aus dem letzten Code-Schnipsel ist eine sogenannte `While`-Schleife. `While`-Schleifen führen einen Code-Abschnitt genauso lange aus, wie eine Bedingung gilt (also in unserem Beispiel solange `start < end`).\n",
    "\n",
    "**Jedoch Vorsicht mit `While`-Schleifen**. Betrachten wir das folgende kleine Programm:\n",
    "\n",
    "```python\n",
    "def my_never_ending_loop():\n",
    "    # '==' steht für den Test auf Gleichheit; wir testen also, ob 1 gleich 1 ist\n",
    "    while 1 == 1:\n",
    "        # '=' steht für die Zuordnung eines Werts (hier: 1)\n",
    "        myvar = 1\n",
    "```\n",
    "\n",
    "Es sollte ziemlich offensichtlich sein, dass diese Schleife niemals enden wird. Deswegen werden wir in den meisten Fällen eher selten `While`-Schleifen zu Gesicht bekommen und beschränken uns hauptsächlich auf `for`-Schleifen. Nur damit haben Sie schon einmal eine `While`-Schleife gesehen, und sind nicht komplett hilflos, falls Sie eine einmal sehen sollten."
   ]
  },
  {
   "cell_type": "markdown",
   "metadata": {},
   "source": [
    "### Die `if-else` - Anweisung\n",
    "\n",
    "Wir schauen uns noch eine weitere Erweiterung des Hello World! - Programmes an. Zum Beispiel möchte man an allen Tagen außer Montag `Hello beautiful World!` ausgeben, und montags `hello world`. Eine mögliche Implementierung wäre die Folgende:"
   ]
  },
  {
   "cell_type": "code",
   "execution_count": 5,
   "metadata": {},
   "outputs": [
    {
     "name": "stdout",
     "output_type": "stream",
     "text": [
      "Hello beautiful World!\n"
     ]
    }
   ],
   "source": [
    "import datetime\n",
    "\n",
    "def main():\n",
    "    # weekday() gibt Zahlen von 0-6  zurück, 0 steht für Montag; 6 für Sonntag\n",
    "    if datetime.datetime.today().weekday() == 0:\n",
    "        print(\"hello world\")\n",
    "    else:\n",
    "        print(\"Hello beautiful World!\")\n",
    "        \n",
    "main()"
   ]
  },
  {
   "cell_type": "markdown",
   "metadata": {},
   "source": [
    "Das einzige wirklich neue/nicht direkt sich selbst erklärende Schlüsselwort sollte `False` sein. `False` ist englisch und steht einfach nur für *Falsch*. Ist also eine Bedinung *Falsch*, so wird in einer if - Anweisung der `else`-Zweig ausgeführt. Das Gegenstück zu `False` ist `True` (= wahr). Wäre, um in unserem Beispiel zu bleiben, heute Montag, so bekämen wir `Hello beautiful World!` als Ausgabe. Insgesamt wird dies unter dem Begriff der booleschen Algebra zusammengefasst.\n",
    "\n",
    "`````{admonition} Boolesche Algebra\n",
    ":class: tip\n",
    "Boolesche Algebra steht im Übrigen auch hinter der Bedingung in der `While`-Schleife! Denn solange die Bedingung der Schleife wahr ist (also zu `True` auswertet), wird der Schleifenrumpf ausgeführt. Sobald die Bedingung nicht mehr wahr ist (also zu `False` auswertet), wird die Schleife abgebrochen, und das restliche Programm nach der Schleife (welches auch leer sein kann) wird ausgeführt.\n",
    "`````"
   ]
  },
  {
   "cell_type": "markdown",
   "metadata": {},
   "source": [
    "---\n",
    "\n",
    "***Damit ist unsere grundlegende Einleitung in Python abgeschlossen!*** In den nächsten Kapiteln werden die hier erlernten Fähigkeiten dann für Probleme mit physikalischem Hintergrund genutzt werden. Ebenso werden wir ab jetzt das eigentlich unnötige `main()`-Programm in Python nicht mehr benutzen und es darf damit wegelassen werden."
   ]
  },
  {
   "cell_type": "code",
   "execution_count": null,
   "metadata": {},
   "outputs": [],
   "source": []
  }
 ],
 "metadata": {
  "kernelspec": {
   "display_name": "Python 3 (ipykernel)",
   "language": "python",
   "name": "python3"
  },
  "language_info": {
   "codemirror_mode": {
    "name": "ipython",
    "version": 3
   },
   "file_extension": ".py",
   "mimetype": "text/x-python",
   "name": "python",
   "nbconvert_exporter": "python",
   "pygments_lexer": "ipython3",
   "version": "3.10.6"
  },
  "vscode": {
   "interpreter": {
    "hash": "916dbcbb3f70747c44a77c7bcd40155683ae19c65e1c03b4aa3499c5328201f1"
   }
  }
 },
 "nbformat": 4,
 "nbformat_minor": 4
}